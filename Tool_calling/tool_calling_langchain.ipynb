{
 "cells": [
  {
   "cell_type": "code",
   "execution_count": 62,
   "id": "532bd30b",
   "metadata": {},
   "outputs": [
    {
     "data": {
      "text/plain": [
       "True"
      ]
     },
     "execution_count": 62,
     "metadata": {},
     "output_type": "execute_result"
    }
   ],
   "source": [
    "from dotenv import load_dotenv\n",
    "load_dotenv()\n",
    "\n"
   ]
  },
  {
   "cell_type": "code",
   "execution_count": 14,
   "id": "294a0029",
   "metadata": {},
   "outputs": [
    {
     "name": "stdout",
     "output_type": "stream",
     "text": [
      "Note: you may need to restart the kernel to use updated packages.\n"
     ]
    }
   ],
   "source": [
    "%pip install -q langchain-openai langchain-core requests"
   ]
  },
  {
   "cell_type": "code",
   "execution_count": 63,
   "id": "677f2e1c",
   "metadata": {},
   "outputs": [],
   "source": [
    "\n",
    "from langchain_core.tools import tool\n",
    "from langchain_core.messages import HumanMessage\n",
    "import requests"
   ]
  },
  {
   "cell_type": "code",
   "execution_count": 64,
   "id": "7419f7f4",
   "metadata": {},
   "outputs": [],
   "source": [
    "#tool create\n",
    "\n",
    "@tool\n",
    "def multiply(a: int, b: int)-> int:\n",
    "    \"\"\"Given 2 numbers a and b this tool returns the product\"\"\"\n",
    "    return a*b"
   ]
  },
  {
   "cell_type": "code",
   "execution_count": 65,
   "id": "0d3ce16b",
   "metadata": {},
   "outputs": [
    {
     "name": "stdout",
     "output_type": "stream",
     "text": [
      "12\n"
     ]
    }
   ],
   "source": [
    "print(multiply.invoke({\"a\":3, \"b\":4}))"
   ]
  },
  {
   "cell_type": "code",
   "execution_count": 66,
   "id": "ff7909bb",
   "metadata": {},
   "outputs": [
    {
     "data": {
      "text/plain": [
       "'multiply'"
      ]
     },
     "execution_count": 66,
     "metadata": {},
     "output_type": "execute_result"
    }
   ],
   "source": [
    "multiply.name"
   ]
  },
  {
   "cell_type": "code",
   "execution_count": 67,
   "id": "371ebdb3",
   "metadata": {},
   "outputs": [
    {
     "data": {
      "text/plain": [
       "'Given 2 numbers a and b this tool returns the product'"
      ]
     },
     "execution_count": 67,
     "metadata": {},
     "output_type": "execute_result"
    }
   ],
   "source": [
    "multiply.description"
   ]
  },
  {
   "cell_type": "code",
   "execution_count": 68,
   "id": "6afbedf2",
   "metadata": {},
   "outputs": [
    {
     "data": {
      "text/plain": [
       "{'a': {'title': 'A', 'type': 'integer'},\n",
       " 'b': {'title': 'B', 'type': 'integer'}}"
      ]
     },
     "execution_count": 68,
     "metadata": {},
     "output_type": "execute_result"
    }
   ],
   "source": [
    "multiply.args"
   ]
  },
  {
   "cell_type": "code",
   "execution_count": 69,
   "id": "e51b317f",
   "metadata": {},
   "outputs": [],
   "source": [
    "# tool bind\n",
    "from langchain_google_genai import ChatGoogleGenerativeAI\n",
    "\n",
    "llm = ChatGoogleGenerativeAI(\n",
    "    model = 'models/gemini-flash-lite-latest'\n",
    ")"
   ]
  },
  {
   "cell_type": "code",
   "execution_count": 70,
   "id": "3ef33710",
   "metadata": {},
   "outputs": [],
   "source": [
    "llm_with_tools = llm.bind_tools([multiply])"
   ]
  },
  {
   "cell_type": "code",
   "execution_count": 71,
   "id": "51f0a7dd",
   "metadata": {},
   "outputs": [
    {
     "name": "stdout",
     "output_type": "stream",
     "text": [
      "I am doing well, thank you for asking! I am ready to assist you with any questions or tasks you may have. How can I help you today?\n"
     ]
    }
   ],
   "source": [
    "print(llm_with_tools.invoke(\"Hi how are you\").content)"
   ]
  },
  {
   "cell_type": "code",
   "execution_count": 107,
   "id": "a7542385",
   "metadata": {},
   "outputs": [],
   "source": [
    "query = HumanMessage(\"can you multiply 3 with 10\")"
   ]
  },
  {
   "cell_type": "code",
   "execution_count": 108,
   "id": "4536b59e",
   "metadata": {},
   "outputs": [],
   "source": [
    "messages = [query]"
   ]
  },
  {
   "cell_type": "code",
   "execution_count": 109,
   "id": "31ffc1c9",
   "metadata": {},
   "outputs": [
    {
     "data": {
      "text/plain": [
       "[HumanMessage(content='can you multiply 3 with 10', additional_kwargs={}, response_metadata={})]"
      ]
     },
     "execution_count": 109,
     "metadata": {},
     "output_type": "execute_result"
    }
   ],
   "source": [
    "messages"
   ]
  },
  {
   "cell_type": "code",
   "execution_count": 110,
   "id": "fce3fef3",
   "metadata": {},
   "outputs": [],
   "source": [
    "result = llm_with_tools.invoke(messages)"
   ]
  },
  {
   "cell_type": "code",
   "execution_count": 111,
   "id": "b250d4d9",
   "metadata": {},
   "outputs": [],
   "source": [
    "messages.append(result)"
   ]
  },
  {
   "cell_type": "code",
   "execution_count": 112,
   "id": "5fdefef0",
   "metadata": {},
   "outputs": [
    {
     "data": {
      "text/plain": [
       "[HumanMessage(content='can you multiply 3 with 10', additional_kwargs={}, response_metadata={}),\n",
       " AIMessage(content='', additional_kwargs={'function_call': {'name': 'multiply', 'arguments': '{\"a\": 3, \"b\": 10}'}}, response_metadata={'prompt_feedback': {'block_reason': 0, 'safety_ratings': []}, 'finish_reason': 'STOP', 'model_name': 'gemini-2.5-flash-lite-preview-09-2025', 'safety_ratings': []}, id='run--a1ed2be2-aa31-4cd3-94ef-56d75b479dee-0', tool_calls=[{'name': 'multiply', 'args': {'a': 3, 'b': 10}, 'id': '16b359e8-a3ee-4791-94a9-60d8288d9bfc', 'type': 'tool_call'}], usage_metadata={'input_tokens': 63, 'output_tokens': 23, 'total_tokens': 86, 'input_token_details': {'cache_read': 0}})]"
      ]
     },
     "execution_count": 112,
     "metadata": {},
     "output_type": "execute_result"
    }
   ],
   "source": [
    "messages"
   ]
  },
  {
   "cell_type": "code",
   "execution_count": 113,
   "id": "bfd56618",
   "metadata": {},
   "outputs": [],
   "source": [
    "# multiply.invoke(result['args'])\n",
    "\n",
    "#tool Execution\n",
    "tool_result=multiply.invoke(result.tool_calls[0])"
   ]
  },
  {
   "cell_type": "code",
   "execution_count": 114,
   "id": "c1b75d93",
   "metadata": {},
   "outputs": [
    {
     "data": {
      "text/plain": [
       "[HumanMessage(content='can you multiply 3 with 10', additional_kwargs={}, response_metadata={}),\n",
       " AIMessage(content='', additional_kwargs={'function_call': {'name': 'multiply', 'arguments': '{\"a\": 3, \"b\": 10}'}}, response_metadata={'prompt_feedback': {'block_reason': 0, 'safety_ratings': []}, 'finish_reason': 'STOP', 'model_name': 'gemini-2.5-flash-lite-preview-09-2025', 'safety_ratings': []}, id='run--a1ed2be2-aa31-4cd3-94ef-56d75b479dee-0', tool_calls=[{'name': 'multiply', 'args': {'a': 3, 'b': 10}, 'id': '16b359e8-a3ee-4791-94a9-60d8288d9bfc', 'type': 'tool_call'}], usage_metadata={'input_tokens': 63, 'output_tokens': 23, 'total_tokens': 86, 'input_token_details': {'cache_read': 0}}),\n",
       " ToolMessage(content='30', name='multiply', tool_call_id='16b359e8-a3ee-4791-94a9-60d8288d9bfc')]"
      ]
     },
     "execution_count": 114,
     "metadata": {},
     "output_type": "execute_result"
    }
   ],
   "source": [
    "messages.append(tool_result)\n",
    "messages"
   ]
  },
  {
   "cell_type": "code",
   "execution_count": 115,
   "id": "acadb4ba",
   "metadata": {},
   "outputs": [
    {
     "name": "stdout",
     "output_type": "stream",
     "text": [
      "content='' additional_kwargs={} response_metadata={'prompt_feedback': {'block_reason': 0, 'safety_ratings': []}, 'finish_reason': 'STOP', 'model_name': 'gemini-2.5-flash-lite-preview-09-2025', 'safety_ratings': []} id='run--c65f0c46-8066-43bb-9201-421faa107457-0' usage_metadata={'input_tokens': 96, 'output_tokens': 0, 'total_tokens': 96, 'input_token_details': {'cache_read': 0}}\n"
     ]
    }
   ],
   "source": [
    "print(llm_with_tools.invoke(messages))"
   ]
  },
  {
   "cell_type": "code",
   "execution_count": null,
   "id": "dc3d8749",
   "metadata": {},
   "outputs": [],
   "source": []
  },
  {
   "cell_type": "code",
   "execution_count": null,
   "id": "47d3d2aa",
   "metadata": {},
   "outputs": [],
   "source": []
  }
 ],
 "metadata": {
  "kernelspec": {
   "display_name": "base",
   "language": "python",
   "name": "python3"
  },
  "language_info": {
   "codemirror_mode": {
    "name": "ipython",
    "version": 3
   },
   "file_extension": ".py",
   "mimetype": "text/x-python",
   "name": "python",
   "nbconvert_exporter": "python",
   "pygments_lexer": "ipython3",
   "version": "3.13.5"
  }
 },
 "nbformat": 4,
 "nbformat_minor": 5
}
