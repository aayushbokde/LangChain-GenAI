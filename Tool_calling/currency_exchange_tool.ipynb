{
 "cells": [
  {
   "cell_type": "code",
   "execution_count": 57,
   "id": "51bc45b8",
   "metadata": {},
   "outputs": [
    {
     "data": {
      "text/plain": [
       "True"
      ]
     },
     "execution_count": 57,
     "metadata": {},
     "output_type": "execute_result"
    }
   ],
   "source": [
    "# tool create\n",
    "\n",
    "from dotenv import load_dotenv\n",
    "load_dotenv()"
   ]
  },
  {
   "cell_type": "code",
   "execution_count": 58,
   "id": "3619a582",
   "metadata": {},
   "outputs": [],
   "source": [
    "from langchain_core.tools import tool\n",
    "from langchain_core.tools import InjectedToolArg\n",
    "from typing import Annotated\n",
    "import requests\n",
    "@tool\n",
    "def get_conversion_factor(base_currency:str, target_currency: str) -> float:\n",
    "    \"\"\"\n",
    "    This func fetches  the conversion factor between the base and target currency\n",
    "    \"\"\"\n",
    "    url = f\"https://v6.exchangerate-api.com/v6/02875630216864e58293a136/pair/{base_currency}/{target_currency}\"\n",
    "\n",
    "    response = requests.get(url)\n",
    "    return response.json()\n",
    "\n",
    "@tool \n",
    "def convert(base_currency_value:int, conversion_rate: Annotated[float,InjectedToolArg]) -> float:\n",
    "    \"\"\"\n",
    "    given a currency conversion rate this func calculates the target currency value from given base currency value\n",
    "    \"\"\"\n",
    "\n",
    "    return base_currency_value*conversion_rate"
   ]
  },
  {
   "cell_type": "code",
   "execution_count": 59,
   "id": "c5eca04d",
   "metadata": {},
   "outputs": [
    {
     "data": {
      "text/plain": [
       "{'result': 'success',\n",
       " 'documentation': 'https://www.exchangerate-api.com/docs',\n",
       " 'terms_of_use': 'https://www.exchangerate-api.com/terms',\n",
       " 'time_last_update_unix': 1760572801,\n",
       " 'time_last_update_utc': 'Thu, 16 Oct 2025 00:00:01 +0000',\n",
       " 'time_next_update_unix': 1760659201,\n",
       " 'time_next_update_utc': 'Fri, 17 Oct 2025 00:00:01 +0000',\n",
       " 'base_code': 'USD',\n",
       " 'target_code': 'INR',\n",
       " 'conversion_rate': 88.0112}"
      ]
     },
     "execution_count": 59,
     "metadata": {},
     "output_type": "execute_result"
    }
   ],
   "source": [
    "get_conversion_factor.invoke({'base_currency':\"USD\", \"target_currency\":\"INR\"})"
   ]
  },
  {
   "cell_type": "code",
   "execution_count": 60,
   "id": "7cce3828",
   "metadata": {},
   "outputs": [
    {
     "data": {
      "text/plain": [
       "880.1120000000001"
      ]
     },
     "execution_count": 60,
     "metadata": {},
     "output_type": "execute_result"
    }
   ],
   "source": [
    "convert.invoke({'base_currency_value':10, \"conversion_rate\":88.0112})"
   ]
  },
  {
   "cell_type": "code",
   "execution_count": 61,
   "id": "1df339de",
   "metadata": {},
   "outputs": [],
   "source": [
    "# tool binding\n",
    "from langchain_google_genai import ChatGoogleGenerativeAI\n",
    "import os\n",
    "llm = ChatGoogleGenerativeAI(\n",
    "    model = 'models/gemini-2.5-pro'\n",
    ")\n"
   ]
  },
  {
   "cell_type": "code",
   "execution_count": 62,
   "id": "94c2df2e",
   "metadata": {},
   "outputs": [],
   "source": [
    "llm_with_tools= llm.bind_tools([get_conversion_factor, convert])"
   ]
  },
  {
   "cell_type": "code",
   "execution_count": 63,
   "id": "8a9ef182",
   "metadata": {},
   "outputs": [
    {
     "data": {
      "text/plain": [
       "[HumanMessage(content='convert 10 USD to INR', additional_kwargs={}, response_metadata={})]"
      ]
     },
     "execution_count": 63,
     "metadata": {},
     "output_type": "execute_result"
    }
   ],
   "source": [
    "from langchain_core.messages import HumanMessage\n",
    "messages = [HumanMessage(\"convert 10 USD to INR\")]\n",
    "messages"
   ]
  },
  {
   "cell_type": "code",
   "execution_count": 64,
   "id": "ea8b9987",
   "metadata": {},
   "outputs": [
    {
     "data": {
      "text/plain": [
       "{'name': 'get_conversion_factor',\n",
       " 'args': {'target_currency': 'INR', 'base_currency': 'USD'},\n",
       " 'id': 'b579d038-19ad-4b2c-a334-4f63244597fc',\n",
       " 'type': 'tool_call'}"
      ]
     },
     "execution_count": 64,
     "metadata": {},
     "output_type": "execute_result"
    }
   ],
   "source": [
    "ai_message = llm_with_tools.invoke(messages)\n",
    "ai_message.tool_calls[0]"
   ]
  },
  {
   "cell_type": "code",
   "execution_count": 66,
   "id": "ad9515c3",
   "metadata": {},
   "outputs": [
    {
     "name": "stdout",
     "output_type": "stream",
     "text": [
      "content='I can do that. What is the conversion rate from USD to INR?' additional_kwargs={} response_metadata={'prompt_feedback': {'block_reason': 0, 'safety_ratings': []}, 'finish_reason': 'STOP', 'model_name': 'gemini-2.5-pro', 'safety_ratings': []} id='run--0ae1d6b8-f369-431a-a199-bfaa7af96880-0' usage_metadata={'input_tokens': 129, 'output_tokens': 767, 'total_tokens': 896, 'input_token_details': {'cache_read': 0}, 'output_token_details': {'reasoning': 752}}\n",
      "[]\n"
     ]
    }
   ],
   "source": [
    "from langchain_core.messages import HumanMessage\n",
    "\n",
    "messages = [HumanMessage(\"convert 10 USD to INR\")]\n",
    "ai_message = llm_with_tools.invoke(messages)\n",
    "\n",
    "print(ai_message)          # full object\n",
    "print(getattr(ai_message, \"tool_calls\", None))  # explicitly see if tool_calls exist\n"
   ]
  },
  {
   "cell_type": "code",
   "execution_count": 72,
   "id": "19e31b64",
   "metadata": {},
   "outputs": [
    {
     "name": "stdout",
     "output_type": "stream",
     "text": [
      "First tool calls: [{'name': 'get_conversion_factor', 'args': {'target_currency': 'INR', 'base_currency': 'USD'}, 'id': 'd13d619f-4662-478e-98cf-6436fe47fb36', 'type': 'tool_call'}, {'name': 'convert', 'args': {'base_currency_value': 10}, 'id': '5a2bab28-e77e-433e-80ad-7f8a9a421235', 'type': 'tool_call'}]\n",
      "Second tool calls: [{'name': 'convert', 'args': {'base_currency_value': 10, 'conversion_rate': 88.0112}, 'id': '7af1c164-108a-4fa1-b242-a3a9f6f0178d', 'type': 'tool_call'}]\n",
      "💬 Final response: 10 USD is equal to 880.112 INR.\n"
     ]
    }
   ],
   "source": [
    "# from langchain_core.messages import ToolMessage\n",
    "\n",
    "# # model_request\n",
    "# messages = [HumanMessage(\"\"\"\n",
    "#  Use the tools provided.\n",
    "#         First, call get_conversion_factor to get the rate between USD and INR. \n",
    "#         Then, call convert to calculate 10 USD in INR.\n",
    "# \"\"\")]\n",
    "\n",
    "# # model decides which tool to call\n",
    "# ai_message = llm_with_tools.invoke(messages)\n",
    "# print(ai_message)\n",
    "\n",
    "\n",
    "# # Run the tool\n",
    "# tool_call = ai_message.tool_calls[0]\n",
    "\n",
    "# if tool_call['name'] == 'get_conversion_factor':\n",
    "#     result = get_conversion_factor.invoke(tool_call[\"args\"])\n",
    "    \n",
    "#     messages.append(ai_message)\n",
    "#     messages.append(ToolMessage(content=str(result), tool_call_id=tool_call[\"id\"]))\n",
    "\n",
    "\n",
    "#     follow_up = llm_with_tools.invoke(messages)\n",
    "#     print(\"second Tool calls\", follow_up.tool_calls)\n",
    "\n",
    "# # EXECUTE \n",
    "# second_call = follow_up.tool_calls[0]\n",
    "# if second_call[\"name\"] == \"convert\":\n",
    "#     result2= convert.invoke(second_call[\"args\"])\n",
    "\n",
    "#     messages.append(follow_up)\n",
    "#     messages.append(ToolMessage(content=str(result2), tool_call_id = second_call[\"id\"]))\n",
    "\n",
    "#     #final response\n",
    "\n",
    "#     final_response = llm_with_tools.invoke(messages)\n",
    "#     print(\"Final response: \", final_response.content)\n",
    "\n",
    "from langchain_core.messages import HumanMessage, ToolMessage\n",
    "\n",
    "# Step 1 — Initial request\n",
    "messages = [HumanMessage(\"\"\"\n",
    "Use the tools provided.\n",
    "First, call get_conversion_factor to get the rate between USD and INR.\n",
    "Then, call convert to calculate 10 USD in INR.\n",
    "\"\"\")]\n",
    "\n",
    "# Step 2 — Model chooses first tool\n",
    "ai_message = llm_with_tools.invoke(messages)\n",
    "print(\"First tool calls:\", ai_message.tool_calls)\n",
    "\n",
    "# Step 3 — Execute get_conversion_factor\n",
    "tool_call = ai_message.tool_calls[0]\n",
    "result = get_conversion_factor.invoke(tool_call[\"args\"])\n",
    "\n",
    "# Extract the conversion rate\n",
    "rate = result[\"conversion_rate\"]\n",
    "\n",
    "# Feed result back\n",
    "messages.append(ai_message)\n",
    "messages.append(ToolMessage(content=str(result), tool_call_id=tool_call[\"id\"]))\n",
    "\n",
    "# Step 4 — Model follows up (may call convert)\n",
    "follow_up = llm_with_tools.invoke(messages)\n",
    "print(\"Second tool calls:\", follow_up.tool_calls)\n",
    "\n",
    "# Step 5 — Execute convert (manually fix missing rate)\n",
    "second_call = follow_up.tool_calls[0]\n",
    "\n",
    "# Inject the conversion_rate if missing\n",
    "if \"conversion_rate\" not in second_call[\"args\"]:\n",
    "    second_call[\"args\"][\"conversion_rate\"] = rate\n",
    "\n",
    "# Execute convert\n",
    "result2 = convert.invoke(second_call[\"args\"])\n",
    "\n",
    "# Feed that result back\n",
    "messages.append(follow_up)\n",
    "messages.append(ToolMessage(content=str(result2), tool_call_id=second_call[\"id\"]))\n",
    "\n",
    "# Step 6 — Final model output\n",
    "final_response = llm_with_tools.invoke(messages)\n",
    "print(\"💬 Final response:\", final_response.content)\n"
   ]
  },
  {
   "cell_type": "code",
   "execution_count": null,
   "id": "41c2c069",
   "metadata": {},
   "outputs": [],
   "source": []
  }
 ],
 "metadata": {
  "kernelspec": {
   "display_name": "base",
   "language": "python",
   "name": "python3"
  },
  "language_info": {
   "codemirror_mode": {
    "name": "ipython",
    "version": 3
   },
   "file_extension": ".py",
   "mimetype": "text/x-python",
   "name": "python",
   "nbconvert_exporter": "python",
   "pygments_lexer": "ipython3",
   "version": "3.13.5"
  }
 },
 "nbformat": 4,
 "nbformat_minor": 5
}
