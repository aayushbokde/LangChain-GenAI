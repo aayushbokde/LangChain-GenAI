{
 "cells": [
  {
   "cell_type": "code",
   "execution_count": 22,
   "id": "1d247431",
   "metadata": {},
   "outputs": [],
   "source": [
    "from abc import ABC, abstractmethod"
   ]
  },
  {
   "cell_type": "code",
   "execution_count": 23,
   "id": "d3074f5f",
   "metadata": {},
   "outputs": [],
   "source": [
    "class Runnable(ABC):\n",
    "    @abstractmethod\n",
    "    def invoke(input_data):\n",
    "        pass"
   ]
  },
  {
   "cell_type": "code",
   "execution_count": 24,
   "id": "e28f7f60",
   "metadata": {},
   "outputs": [],
   "source": [
    "import random\n",
    "class FakeLLM(Runnable):\n",
    "    def __init__(self):\n",
    "        print('LLM created')\n",
    "\n",
    "    def invoke(self, prompt):\n",
    "        response_list = [\n",
    "           \"Delhi is the capital of India\",\n",
    "           \"IPL is cricket league\",\n",
    "           \"AI is Interesting\" \n",
    "        ]\n",
    "        \n",
    "        return {'response': random.choice(response_list)}\n",
    "\n",
    "    def predict(self, prompt):\n",
    "        response_list = [\n",
    "           \"Delhi is the capital of India\",\n",
    "           \"IPL is cricket league\",\n",
    "           \"AI is Interesting\" \n",
    "        ]\n",
    "        \n",
    "        return {'response': random.choice(response_list)}\n",
    "\n"
   ]
  },
  {
   "cell_type": "code",
   "execution_count": 25,
   "id": "8fa263d3",
   "metadata": {},
   "outputs": [],
   "source": [
    "class FakePromptTemplate(Runnable):\n",
    "    def __init__(self, template, input_variables):\n",
    "        self.template = template\n",
    "        self.input_variables = input_variables\n",
    "\n",
    "    def invoke(self, input_dict):\n",
    "        return self.template.format(**input_dict)\n",
    "    \n",
    "    def format(self, input_dict):\n",
    "        return self.template.format(**input_dict)\n",
    "        \n"
   ]
  },
  {
   "cell_type": "code",
   "execution_count": 26,
   "id": "9831ce44",
   "metadata": {},
   "outputs": [],
   "source": [
    "class FakeStrOutputParser(Runnable):\n",
    "\n",
    "    def __init__(self):\n",
    "        pass\n",
    "    \n",
    "    def invoke(self, input_data):\n",
    "        return input_data['response']"
   ]
  },
  {
   "cell_type": "code",
   "execution_count": 27,
   "id": "ef972e03",
   "metadata": {},
   "outputs": [],
   "source": [
    "class RunnableConnector(Runnable):\n",
    "\n",
    "    def __init__(self, runnable_list):\n",
    "        self.runnable_list = runnable_list\n",
    "\n",
    "    def invoke(self, input_data):\n",
    "        for runnable in self.runnable_list:\n",
    "            input_data = runnable.invoke((input_data))\n",
    "        return input_data"
   ]
  },
  {
   "cell_type": "code",
   "execution_count": 28,
   "id": "7ea373a6",
   "metadata": {},
   "outputs": [],
   "source": [
    "template = FakePromptTemplate(\n",
    "    template=\"write a {length} poem about {topic}\",\n",
    "    input_variables=['length', 'topic']\n",
    ")"
   ]
  },
  {
   "cell_type": "code",
   "execution_count": 29,
   "id": "0349059e",
   "metadata": {},
   "outputs": [
    {
     "name": "stdout",
     "output_type": "stream",
     "text": [
      "LLM created\n"
     ]
    }
   ],
   "source": [
    "llm = FakeLLM()"
   ]
  },
  {
   "cell_type": "code",
   "execution_count": 30,
   "id": "8ad4635a",
   "metadata": {},
   "outputs": [],
   "source": [
    "parser = FakeStrOutputParser()"
   ]
  },
  {
   "cell_type": "code",
   "execution_count": 31,
   "id": "e31241e1",
   "metadata": {},
   "outputs": [],
   "source": [
    "chain = RunnableConnector([template, llm, parser])"
   ]
  },
  {
   "cell_type": "code",
   "execution_count": 32,
   "id": "dbe3eeef",
   "metadata": {},
   "outputs": [
    {
     "data": {
      "text/plain": [
       "'AI is Interesting'"
      ]
     },
     "execution_count": 32,
     "metadata": {},
     "output_type": "execute_result"
    }
   ],
   "source": [
    "chain.invoke({'length':'invoke', 'topic':'India'})"
   ]
  },
  {
   "cell_type": "code",
   "execution_count": null,
   "id": "f0c82300",
   "metadata": {},
   "outputs": [],
   "source": []
  }
 ],
 "metadata": {
  "kernelspec": {
   "display_name": "base",
   "language": "python",
   "name": "python3"
  },
  "language_info": {
   "codemirror_mode": {
    "name": "ipython",
    "version": 3
   },
   "file_extension": ".py",
   "mimetype": "text/x-python",
   "name": "python",
   "nbconvert_exporter": "python",
   "pygments_lexer": "ipython3",
   "version": "3.13.5"
  }
 },
 "nbformat": 4,
 "nbformat_minor": 5
}
