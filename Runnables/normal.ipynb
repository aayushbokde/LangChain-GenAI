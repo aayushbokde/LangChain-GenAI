{
 "cells": [
  {
   "cell_type": "code",
   "execution_count": 1,
   "id": "f561d56d",
   "metadata": {},
   "outputs": [],
   "source": [
    "import random\n",
    "class FakeLLM:\n",
    "    def __init__(self):\n",
    "        print('LLM created')\n",
    "\n",
    "    def predict(self, prompt):\n",
    "        response_list = [\n",
    "           \"Delhi is the capital of India\",\n",
    "           \"IPL is cricket league\",\n",
    "           \"AI is Interesting\" \n",
    "        ]\n",
    "        \n",
    "        return {'response': random.choice(response_list)}\n",
    "\n"
   ]
  },
  {
   "cell_type": "code",
   "execution_count": 2,
   "id": "05faf8ad",
   "metadata": {},
   "outputs": [
    {
     "name": "stdout",
     "output_type": "stream",
     "text": [
      "LLM created\n"
     ]
    }
   ],
   "source": [
    "llm = FakeLLM()"
   ]
  },
  {
   "cell_type": "code",
   "execution_count": 6,
   "id": "b8b712bc",
   "metadata": {},
   "outputs": [
    {
     "data": {
      "text/plain": [
       "{'response': 'IPL is cricket league'}"
      ]
     },
     "execution_count": 6,
     "metadata": {},
     "output_type": "execute_result"
    }
   ],
   "source": [
    "llm.predict(\"what is the capital of india\")"
   ]
  },
  {
   "cell_type": "code",
   "execution_count": 11,
   "id": "c5fffa96",
   "metadata": {},
   "outputs": [],
   "source": [
    "class FakePromptTemplate:\n",
    "    def __init__(self, template, input_variables):\n",
    "        self.template = template\n",
    "        self.input_variables = input_variables\n",
    "\n",
    "    def format(self, input_dict):\n",
    "        return self.template.format(**input_dict)\n"
   ]
  },
  {
   "cell_type": "code",
   "execution_count": 14,
   "id": "3e252d81",
   "metadata": {},
   "outputs": [],
   "source": [
    "template = FakePromptTemplate(\n",
    "    template = \"write a {length} poem about{topic}\",\n",
    "    input_variables=['topic', 'length']\n",
    ")"
   ]
  },
  {
   "cell_type": "code",
   "execution_count": 16,
   "id": "1209a75e",
   "metadata": {},
   "outputs": [],
   "source": [
    "prompt = template.format({'topic':'india', 'length':'short'})"
   ]
  },
  {
   "cell_type": "code",
   "execution_count": 17,
   "id": "badc7944",
   "metadata": {},
   "outputs": [
    {
     "name": "stdout",
     "output_type": "stream",
     "text": [
      "LLM created\n"
     ]
    }
   ],
   "source": [
    "llm = FakeLLM()"
   ]
  },
  {
   "cell_type": "code",
   "execution_count": 18,
   "id": "ecccfffe",
   "metadata": {},
   "outputs": [
    {
     "data": {
      "text/plain": [
       "{'response': 'AI is Interesting'}"
      ]
     },
     "execution_count": 18,
     "metadata": {},
     "output_type": "execute_result"
    }
   ],
   "source": [
    "llm.predict(prompt)"
   ]
  },
  {
   "cell_type": "code",
   "execution_count": 19,
   "id": "6f833269",
   "metadata": {},
   "outputs": [],
   "source": [
    "class FakeLLMChain:\n",
    "    def __init__(self, llm, prompt):\n",
    "        self.llm = llm\n",
    "        self.prompt = prompt\n",
    "\n",
    "    def run(self, input_dict):\n",
    "        final_prompt = self.prompt.format(input_dict)\n",
    "        result = self.llm.predict(final_prompt)\n",
    "        return result['response']    "
   ]
  },
  {
   "cell_type": "code",
   "execution_count": 20,
   "id": "0033d22c",
   "metadata": {},
   "outputs": [],
   "source": [
    "template = FakePromptTemplate(\n",
    "    template = \"write a {length} poem about{topic}\",\n",
    "    input_variables=['topic', 'length']\n",
    ")"
   ]
  },
  {
   "cell_type": "code",
   "execution_count": 21,
   "id": "890bb184",
   "metadata": {},
   "outputs": [
    {
     "name": "stdout",
     "output_type": "stream",
     "text": [
      "LLM created\n"
     ]
    }
   ],
   "source": [
    "llm = FakeLLM()"
   ]
  },
  {
   "cell_type": "code",
   "execution_count": 22,
   "id": "60692933",
   "metadata": {},
   "outputs": [],
   "source": [
    "chain = FakeLLMChain(llm, template)"
   ]
  },
  {
   "cell_type": "code",
   "execution_count": 23,
   "id": "b5a02166",
   "metadata": {},
   "outputs": [
    {
     "data": {
      "text/plain": [
       "'AI is Interesting'"
      ]
     },
     "execution_count": 23,
     "metadata": {},
     "output_type": "execute_result"
    }
   ],
   "source": [
    "chain.run({'topic':'India', 'length':'long'})"
   ]
  },
  {
   "cell_type": "code",
   "execution_count": null,
   "id": "9905a76f",
   "metadata": {},
   "outputs": [],
   "source": []
  }
 ],
 "metadata": {
  "kernelspec": {
   "display_name": "base",
   "language": "python",
   "name": "python3"
  },
  "language_info": {
   "codemirror_mode": {
    "name": "ipython",
    "version": 3
   },
   "file_extension": ".py",
   "mimetype": "text/x-python",
   "name": "python",
   "nbconvert_exporter": "python",
   "pygments_lexer": "ipython3",
   "version": "3.13.5"
  }
 },
 "nbformat": 4,
 "nbformat_minor": 5
}
