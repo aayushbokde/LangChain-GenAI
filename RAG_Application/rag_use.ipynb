{
 "cells": [
  {
   "cell_type": "code",
   "execution_count": 93,
   "id": "0e1ed141",
   "metadata": {},
   "outputs": [
    {
     "data": {
      "text/plain": [
       "True"
      ]
     },
     "execution_count": 93,
     "metadata": {},
     "output_type": "execute_result"
    }
   ],
   "source": [
    "import os\n",
    "from dotenv import load_dotenv\n",
    "load_dotenv()\n",
    "\n"
   ]
  },
  {
   "cell_type": "code",
   "execution_count": 56,
   "id": "5a9fb595",
   "metadata": {},
   "outputs": [
    {
     "name": "stdout",
     "output_type": "stream",
     "text": [
      "Requirement already satisfied: youtube-transcript-api in c:\\users\\aayus\\anaconda3\\lib\\site-packages (1.2.2)\n",
      "Requirement already satisfied: defusedxml<0.8.0,>=0.7.1 in c:\\users\\aayus\\anaconda3\\lib\\site-packages (from youtube-transcript-api) (0.7.1)\n",
      "Requirement already satisfied: requests in c:\\users\\aayus\\anaconda3\\lib\\site-packages (from youtube-transcript-api) (2.32.5)\n",
      "Requirement already satisfied: charset_normalizer<4,>=2 in c:\\users\\aayus\\appdata\\roaming\\python\\python313\\site-packages (from requests->youtube-transcript-api) (3.4.1)\n",
      "Requirement already satisfied: idna<4,>=2.5 in c:\\users\\aayus\\appdata\\roaming\\python\\python313\\site-packages (from requests->youtube-transcript-api) (3.10)\n",
      "Requirement already satisfied: urllib3<3,>=1.21.1 in c:\\users\\aayus\\appdata\\roaming\\python\\python313\\site-packages (from requests->youtube-transcript-api) (2.3.0)\n",
      "Requirement already satisfied: certifi>=2017.4.17 in c:\\users\\aayus\\appdata\\roaming\\python\\python313\\site-packages (from requests->youtube-transcript-api) (2025.1.31)\n",
      "Note: you may need to restart the kernel to use updated packages.\n"
     ]
    }
   ],
   "source": [
    "%pip install youtube-transcript-api\n"
   ]
  },
  {
   "cell_type": "code",
   "execution_count": 73,
   "id": "44d56c3d",
   "metadata": {},
   "outputs": [],
   "source": [
    "from youtube_transcript_api import YouTubeTranscriptApi, TranscriptsDisabled\n",
    "from langchain.text_splitter import RecursiveCharacterTextSplitter\n",
    "from langchain_community.vectorstores import FAISS\n",
    "from langchain_openai import ChatOpenAI\n",
    "from langchain_core.prompts import PromptTemplate"
   ]
  },
  {
   "cell_type": "code",
   "execution_count": 74,
   "id": "d7121f26",
   "metadata": {},
   "outputs": [],
   "source": [
    "video_id = \"LPZh9BOjkQs\"\n",
    "api = YouTubeTranscriptApi()\n",
    "try:\n",
    "    transcript_list = api.fetch(video_id, languages = [\"en\"])\n",
    "    transcript = \" \".join(chunk.text for chunk in transcript_list)\n",
    "except TranscriptsDisabled:\n",
    "    print(\"No captions available here\")\n",
    "    "
   ]
  },
  {
   "cell_type": "code",
   "execution_count": 75,
   "id": "7f7750a1",
   "metadata": {},
   "outputs": [],
   "source": [
    "# import youtube_transcript_api\n",
    "# print(youtube_transcript_api.__file__)"
   ]
  },
  {
   "cell_type": "code",
   "execution_count": 76,
   "id": "2e013fec",
   "metadata": {},
   "outputs": [],
   "source": [
    "# %pip show youtube_transcript_api"
   ]
  },
  {
   "cell_type": "code",
   "execution_count": 77,
   "id": "8fd6a5df",
   "metadata": {},
   "outputs": [],
   "source": [
    "# dir(YouTubeTranscriptApi)"
   ]
  },
  {
   "cell_type": "code",
   "execution_count": 78,
   "id": "83918d6a",
   "metadata": {},
   "outputs": [
    {
     "data": {
      "text/plain": [
       "FetchedTranscript(snippets=[FetchedTranscriptSnippet(text='Imagine you happen across a short movie script that', start=1.14, duration=2.836), FetchedTranscriptSnippet(text='describes a scene between a person and their AI assistant.', start=3.976, duration=3.164), FetchedTranscriptSnippet(text=\"The script has what the person asks the AI, but the AI's response has been torn off.\", start=7.48, duration=5.58), FetchedTranscriptSnippet(text='Suppose you also have this powerful magical machine that can take', start=13.06, duration=3.92), FetchedTranscriptSnippet(text='any text and provide a sensible prediction of what word comes next.', start=16.98, duration=3.98), FetchedTranscriptSnippet(text='You could then finish the script by feeding in what you have to the machine,', start=21.5, duration=4.006), FetchedTranscriptSnippet(text=\"seeing what it would predict to start the AI's answer,\", start=25.506, duration=2.862), FetchedTranscriptSnippet(text='and then repeating this over and over with a growing script completing the dialogue.', start=28.368, duration=4.372), FetchedTranscriptSnippet(text=\"When you interact with a chatbot, this is exactly what's happening.\", start=33.38, duration=3.1), FetchedTranscriptSnippet(text='A large language model is a sophisticated mathematical function', start=37.02, duration=3.681), FetchedTranscriptSnippet(text='that predicts what word comes next for any piece of text.', start=40.701, duration=3.279), FetchedTranscriptSnippet(text='Instead of predicting one word with certainty, though,', start=44.38, duration=3.022), FetchedTranscriptSnippet(text='what it does is assign a probability to all possible next words.', start=47.402, duration=3.518), FetchedTranscriptSnippet(text='To build a chatbot, you lay out some text that describes an interaction between a user', start=51.62, duration=5.18), FetchedTranscriptSnippet(text='and a hypothetical AI assistant, add on whatever the user types in as the first part of', start=56.8, duration=5.24), FetchedTranscriptSnippet(text='the interaction, and then have the model repeatedly predict the next word that such a', start=62.04, duration=5.12), FetchedTranscriptSnippet(text=\"hypothetical AI assistant would say in response, and that's what's presented to the user.\", start=67.16, duration=5.3), FetchedTranscriptSnippet(text='In doing this, the output tends to look a lot more natural if', start=73.08, duration=3.134), FetchedTranscriptSnippet(text='you allow it to select less likely words along the way at random.', start=76.214, duration=3.286), FetchedTranscriptSnippet(text='So what this means is even though the model itself is deterministic,', start=80.14, duration=3.48), FetchedTranscriptSnippet(text=\"a given prompt typically gives a different answer each time it's run.\", start=83.62, duration=3.48), FetchedTranscriptSnippet(text='Models learn how to make these predictions by processing an enormous amount of text,', start=88.04, duration=4.292), FetchedTranscriptSnippet(text='typically pulled from the internet.', start=92.332, duration=1.768), FetchedTranscriptSnippet(text='For a standard human to read the amount of text that was used to train GPT-3,', start=94.1, duration=5.371), FetchedTranscriptSnippet(text='for example, if they read non-stop 24-7, it would take over 2600 years.', start=99.471, duration=4.889), FetchedTranscriptSnippet(text='Larger models since then train on much, much more.', start=104.72, duration=2.62), FetchedTranscriptSnippet(text='You can think of training a little bit like tuning the dials on a big machine.', start=108.2, duration=3.58), FetchedTranscriptSnippet(text='The way that a language model behaves is entirely determined by these', start=112.28, duration=4.021), FetchedTranscriptSnippet(text='many different continuous values, usually called parameters or weights.', start=116.301, duration=4.079), FetchedTranscriptSnippet(text='Changing those parameters will change the probabilities', start=121.02, duration=3.079), FetchedTranscriptSnippet(text='that the model gives for the next word on a given input.', start=124.099, duration=3.081), FetchedTranscriptSnippet(text='What puts the large in large language model is how', start=127.86, duration=2.867), FetchedTranscriptSnippet(text='they can have hundreds of billions of these parameters.', start=130.727, duration=3.093), FetchedTranscriptSnippet(text='No human ever deliberately sets those parameters.', start=135.2, duration=2.84), FetchedTranscriptSnippet(text='Instead, they begin at random, meaning the model just outputs gibberish,', start=138.44, duration=4.203), FetchedTranscriptSnippet(text=\"but they're repeatedly refined based on many example pieces of text.\", start=142.643, duration=3.917), FetchedTranscriptSnippet(text='One of these training examples could be just a handful of words,', start=147.14, duration=3.516), FetchedTranscriptSnippet(text='or it could be thousands, but in either case, the way this works is to', start=150.656, duration=3.84), FetchedTranscriptSnippet(text='pass in all but the last word from that example into the model and', start=154.496, duration=3.624), FetchedTranscriptSnippet(text='compare the prediction that it makes with the true last word from the example.', start=158.12, duration=4.22), FetchedTranscriptSnippet(text='An algorithm called backpropagation is used to tweak all of the parameters', start=163.26, duration=4.133), FetchedTranscriptSnippet(text='in such a way that it makes the model a little more likely to choose', start=167.393, duration=3.803), FetchedTranscriptSnippet(text='the true last word and a little less likely to choose all the others.', start=171.196, duration=3.804), FetchedTranscriptSnippet(text='When you do this for many, many trillions of examples,', start=175.74, duration=3.01), FetchedTranscriptSnippet(text='not only does the model start to give more accurate predictions on the training data,', start=178.75, duration=4.708), FetchedTranscriptSnippet(text=\"but it also starts to make more reasonable predictions on text that it's never\", start=183.458, duration=4.325), FetchedTranscriptSnippet(text='seen before.', start=187.783, duration=0.657), FetchedTranscriptSnippet(text='Given the huge number of parameters and the enormous amount of training data,', start=189.42, duration=4.499), FetchedTranscriptSnippet(text='the scale of computation involved in training a large language model is mind-boggling.', start=193.919, duration=4.961), FetchedTranscriptSnippet(text='To illustrate, imagine that you could perform one', start=199.6, duration=2.685), FetchedTranscriptSnippet(text='billion additions and multiplications every single second.', start=202.285, duration=3.115), FetchedTranscriptSnippet(text='How long do you think it would take for you to do all of the', start=206.06, duration=3.266), FetchedTranscriptSnippet(text='operations involved in training the largest language models?', start=209.326, duration=3.214), FetchedTranscriptSnippet(text='Do you think it would take a year?', start=213.46, duration=1.579), FetchedTranscriptSnippet(text='Maybe something like 10,000 years?', start=216.039, duration=1.921), FetchedTranscriptSnippet(text='The answer is actually much more than that.', start=219.02, duration=1.78), FetchedTranscriptSnippet(text=\"It's well over 100 million years.\", start=221.12, duration=2.78), FetchedTranscriptSnippet(text='This is only part of the story, though.', start=225.52, duration=1.84), FetchedTranscriptSnippet(text='This whole process is called pre-training.', start=227.54, duration=1.68), FetchedTranscriptSnippet(text='The goal of auto-completing a random passage of text from the', start=229.5, duration=3.146), FetchedTranscriptSnippet(text='internet is very different from the goal of being a good AI assistant.', start=232.646, duration=3.554), FetchedTranscriptSnippet(text='To address this, chatbots undergo another type of training,', start=236.88, duration=3.2), FetchedTranscriptSnippet(text='just as important, called reinforcement learning with human feedback.', start=240.08, duration=3.68), FetchedTranscriptSnippet(text='Workers flag unhelpful or problematic predictions,', start=244.48, duration=3.018), FetchedTranscriptSnippet(text=\"and their corrections further change the model's parameters,\", start=247.498, duration=3.611), FetchedTranscriptSnippet(text='making them more likely to give predictions that users prefer.', start=251.109, duration=3.671), FetchedTranscriptSnippet(text='Looking back at the pre-training, though, this staggering amount of', start=254.78, duration=4.08), FetchedTranscriptSnippet(text='computation is only made possible by using special computer chips that', start=258.86, duration=4.26), FetchedTranscriptSnippet(text='are optimized for running many operations in parallel, known as GPUs.', start=263.12, duration=4.14), FetchedTranscriptSnippet(text='However, not all language models can be easily parallelized.', start=268.12, duration=3.5), FetchedTranscriptSnippet(text='Prior to 2017, most language models would process text one word at a time,', start=272.08, duration=4.737), FetchedTranscriptSnippet(text='but then a team of researchers at Google introduced a new model known as the transformer.', start=276.817, duration=5.623), FetchedTranscriptSnippet(text=\"Transformers don't read text from the start to the finish,\", start=283.3, duration=3.445), FetchedTranscriptSnippet(text='they soak it all in at once, in parallel.', start=286.745, duration=2.395), FetchedTranscriptSnippet(text='The very first step inside a transformer, and most other language models for that matter,', start=289.9, duration=4.7), FetchedTranscriptSnippet(text='is to associate each word with a long list of numbers.', start=294.6, duration=2.82), FetchedTranscriptSnippet(text='The reason for this is that the training process only works with continuous values,', start=297.86, duration=4.536), FetchedTranscriptSnippet(text='so you have to somehow encode language using numbers,', start=302.396, duration=2.916), FetchedTranscriptSnippet(text='and each of these lists of numbers may somehow encode the meaning of the', start=305.312, duration=3.942), FetchedTranscriptSnippet(text='corresponding word.', start=309.254, duration=1.026), FetchedTranscriptSnippet(text='What makes transformers unique is their reliance', start=310.28, duration=3.08), FetchedTranscriptSnippet(text='on a special operation known as attention.', start=313.36, duration=2.64), FetchedTranscriptSnippet(text='This operation gives all of these lists of numbers a chance to talk to one another', start=316.98, duration=4.704), FetchedTranscriptSnippet(text='and refine the meanings they encode based on the context around, all done in parallel.', start=321.684, duration=4.876), FetchedTranscriptSnippet(text='For example, the numbers encoding the word bank might be changed based on the', start=327.4, duration=4.307), FetchedTranscriptSnippet(text='context surrounding it to somehow encode the more specific notion of a riverbank.', start=331.707, duration=4.473), FetchedTranscriptSnippet(text='Transformers typically also include a second type of operation known', start=337.28, duration=3.749), FetchedTranscriptSnippet(text='as a feed-forward neural network, and this gives the model extra', start=341.029, duration=3.532), FetchedTranscriptSnippet(text='capacity to store more patterns about language learned during training.', start=344.561, duration=3.859), FetchedTranscriptSnippet(text='All of this data repeatedly flows through many different iterations of', start=349.28, duration=4.121), FetchedTranscriptSnippet(text='these two fundamental operations, and as it does so,', start=353.401, duration=3.077), FetchedTranscriptSnippet(text='the hope is that each list of numbers is enriched to encode whatever', start=356.478, duration=4.006), FetchedTranscriptSnippet(text='information might be needed to make an accurate prediction of what word', start=360.484, duration=4.18), FetchedTranscriptSnippet(text='follows in the passage.', start=364.664, duration=1.336), FetchedTranscriptSnippet(text='At the end, one final function is performed on the last vector in this sequence,', start=367.0, duration=4.534), FetchedTranscriptSnippet(text='which now has had a chance to be influenced by all the other context from the input text,', start=371.534, duration=5.039), FetchedTranscriptSnippet(text='as well as everything the model learned during training,', start=376.573, duration=3.191), FetchedTranscriptSnippet(text='to produce a prediction of the next word.', start=379.764, duration=2.296), FetchedTranscriptSnippet(text=\"Again, the model's prediction looks like a probability for every possible next word.\", start=382.48, duration=4.88), FetchedTranscriptSnippet(text='Although researchers design the framework for how each of these steps work,', start=388.56, duration=4.234), FetchedTranscriptSnippet(text=\"it's important to understand that the specific behavior is an emergent phenomenon\", start=392.794, duration=4.568), FetchedTranscriptSnippet(text='based on how those hundreds of billions of parameters are tuned during training.', start=397.362, duration=4.458), FetchedTranscriptSnippet(text='This makes it incredibly challenging to determine', start=402.48, duration=2.59), FetchedTranscriptSnippet(text='why the model makes the exact predictions that it does.', start=405.07, duration=2.85), FetchedTranscriptSnippet(text='What you can see is that when you use large language model predictions to autocomplete', start=408.44, duration=5.338), FetchedTranscriptSnippet(text='a prompt, the words that it generates are uncannily fluent, fascinating, and even useful.', start=413.778, duration=5.462), FetchedTranscriptSnippet(text=\"If you're a new viewer and you're curious about more details on how\", start=425.719, duration=3.107), FetchedTranscriptSnippet(text='transformers and attention work, boy do I have some material for you.', start=428.826, duration=3.153), FetchedTranscriptSnippet(text='One option is to jump into a series I made about deep learning,', start=432.399, duration=3.681), FetchedTranscriptSnippet(text='where we visualize and motivate the details of attention and all the other steps', start=436.08, duration=4.66), FetchedTranscriptSnippet(text='in a transformer.', start=440.74, duration=0.979), FetchedTranscriptSnippet(text='Also, on my second channel I just posted a talk I gave a couple', start=442.099, duration=3.43), FetchedTranscriptSnippet(text='months ago about this topic for the company TNG in Munich.', start=445.529, duration=3.11), FetchedTranscriptSnippet(text='Sometimes I actually prefer the content I make as a casual talk rather than a produced', start=449.079, duration=4.022), FetchedTranscriptSnippet(text='video, but I leave it up to you which one of these feels like the better follow-on.', start=453.101, duration=3.838)], video_id='LPZh9BOjkQs', language='English', language_code='en', is_generated=False)"
      ]
     },
     "execution_count": 78,
     "metadata": {},
     "output_type": "execute_result"
    }
   ],
   "source": [
    "transcript_list"
   ]
  },
  {
   "cell_type": "code",
   "execution_count": 79,
   "id": "ed6ddfe3",
   "metadata": {},
   "outputs": [],
   "source": [
    "splitter = RecursiveCharacterTextSplitter(chunk_size=100, chunk_overlap=10)\n",
    "chunks = splitter.create_documents([transcript])"
   ]
  },
  {
   "cell_type": "code",
   "execution_count": 80,
   "id": "b7398353",
   "metadata": {},
   "outputs": [
    {
     "data": {
      "text/plain": [
       "85"
      ]
     },
     "execution_count": 80,
     "metadata": {},
     "output_type": "execute_result"
    }
   ],
   "source": [
    "len(chunks)"
   ]
  },
  {
   "cell_type": "code",
   "execution_count": 81,
   "id": "ed5941b4",
   "metadata": {},
   "outputs": [
    {
     "data": {
      "text/plain": [
       "Document(metadata={}, page_content='Imagine you happen across a short movie script that describes a scene between a person and their AI')"
      ]
     },
     "execution_count": 81,
     "metadata": {},
     "output_type": "execute_result"
    }
   ],
   "source": [
    "chunks[0]"
   ]
  },
  {
   "cell_type": "code",
   "execution_count": 66,
   "id": "5f40e080",
   "metadata": {},
   "outputs": [],
   "source": [
    "from langchain_google_genai import GoogleGenerativeAIEmbeddings\n",
    "embeddings = GoogleGenerativeAIEmbeddings(\n",
    "    model = 'gemini-embedding-001'\n",
    ")\n",
    "vector_store = FAISS.from_documents(chunks, embeddings)"
   ]
  },
  {
   "cell_type": "code",
   "execution_count": 82,
   "id": "fe62fdf0",
   "metadata": {},
   "outputs": [
    {
     "data": {
      "text/plain": [
       "{0: '4b628bd0-7352-437b-bf22-b1d14329247d',\n",
       " 1: '0c8b6cb1-6153-48f2-a0df-6fd32346001f',\n",
       " 2: '53dc211b-b6e5-4dcf-9d6d-06c760085218',\n",
       " 3: 'df0517bb-0556-4f55-be38-958d0ae9c830',\n",
       " 4: '3d895249-73a5-45c8-9f7f-6b5a52684399',\n",
       " 5: '9de5c074-207c-451d-a19f-179839141db6',\n",
       " 6: '2b0785a6-74a9-4333-8175-16c0d3e9c357',\n",
       " 7: '18bfd52c-c9c7-455d-837d-d797aeccf37e',\n",
       " 8: '815c1748-6a31-46ef-be6e-63c4b7c8e5e4',\n",
       " 9: 'ebfdb1ee-6011-44f8-9df6-b63737558ac8',\n",
       " 10: 'b1f7a135-9840-41cf-8051-8bdae26ded55',\n",
       " 11: 'b7a20fe5-a910-46d2-8b23-3cf077ab9ccc',\n",
       " 12: '3e37b680-3ad9-45ed-a29d-c20bee086d17',\n",
       " 13: '8e253b46-28f5-4750-b938-01a0ebb3b18a',\n",
       " 14: '20035df5-6fc5-494f-9c1d-ea79cc580762',\n",
       " 15: 'f65f422c-535c-4819-9d89-6a5dd47cd3e7',\n",
       " 16: 'c841569b-75a5-44cd-8916-22b4ec4eda14',\n",
       " 17: 'ede3c742-7824-4172-b5b1-60ff2e710c3e',\n",
       " 18: '745504a9-aa21-4e8a-b86e-aab50e08ffb0',\n",
       " 19: 'f3947215-c3e2-4aab-acfe-e4684b7a38bc',\n",
       " 20: '21978bab-e2ed-4212-8b1a-38755dacc154',\n",
       " 21: 'd73461a5-4423-4214-a81e-b7b5533f16f9',\n",
       " 22: '4a0b579c-fcdc-4904-970a-802552060999',\n",
       " 23: 'cc1e6a1e-eece-4ed7-b36c-13f55396d742',\n",
       " 24: '5eb8a396-2766-48d2-bea9-15b4be4c532b',\n",
       " 25: 'a845fcf8-01a6-4dbd-ba92-0f8baf8777dc',\n",
       " 26: 'cfda4b2f-7c39-4b75-8897-fc0f65e24a90',\n",
       " 27: 'ea422e69-11c8-4d2a-b220-e06eea3baca3',\n",
       " 28: 'b310a859-754b-4fee-bdda-9b780d8685f5',\n",
       " 29: '46dc1a28-26fc-457f-8028-e5dcab40fa48',\n",
       " 30: 'e602a411-da57-4c9d-b219-44b595821c4e',\n",
       " 31: 'd3a16f2c-0f57-4399-a0ee-86c9ec371f9c',\n",
       " 32: '496ddc2a-eb30-46d7-a2c0-93b2e43125d5',\n",
       " 33: '0d5e398a-e24f-406e-bc18-8ab02c3cddea',\n",
       " 34: '55c53b03-b27d-406c-b809-0b3a8a2fba81',\n",
       " 35: '00a240f7-98fe-41d7-b9fa-348f141edc79',\n",
       " 36: 'b36a44de-61d5-4ce2-b371-55c63e244014',\n",
       " 37: '74bd8ea6-1a79-4b03-868e-c9e82fa55e5f',\n",
       " 38: '6336f0d2-a64b-43ac-9df5-7e0772646af2',\n",
       " 39: 'b6a1be05-9711-43fa-bf15-35a562d81dc5',\n",
       " 40: 'e806b36c-a1c8-4631-ba9c-3aef49c8b280',\n",
       " 41: '2fd04418-fee9-493b-a739-0d8367501b26',\n",
       " 42: '853d5189-080d-4539-8b70-863d08a8b9a3',\n",
       " 43: '808a1094-5806-49ca-bd92-56a16c1c405e',\n",
       " 44: '1cb85db9-5d39-4817-bdd5-3a9547b69885',\n",
       " 45: 'ae918514-6706-424e-8199-bf32e96c4fb8',\n",
       " 46: '2fac498a-b62c-4c30-9483-58266af49335',\n",
       " 47: 'd955bcf7-766f-4b04-86fa-75f2b8f49850',\n",
       " 48: '6ca6969c-a2aa-4db5-b546-daf921ebeaca',\n",
       " 49: 'fa714380-2163-495d-a6e4-29d36f0d26ef',\n",
       " 50: '095cd1d7-d709-4d64-93e5-cfea2e571733',\n",
       " 51: 'a2d50d17-d4f9-4f4f-a2c7-4b9f5b7f96bd',\n",
       " 52: '9bb25465-87f6-4c0e-a782-b05225ae2af0',\n",
       " 53: '43c870e6-4aff-48ee-b489-3f3212fd1bb3',\n",
       " 54: 'f68b1e67-10e0-49cd-ab62-910c734ea453',\n",
       " 55: '37e7544e-040b-42c5-9b16-d7f923fe85e1',\n",
       " 56: 'd867dc3c-c922-4441-b42c-3cac5474e5a3',\n",
       " 57: '43d62639-3a9e-4a94-9108-4babba704f06',\n",
       " 58: '24d137c8-9a81-4dd7-a494-38f706bd7587',\n",
       " 59: '7732512e-56d0-4e09-8e48-ae72584087ed',\n",
       " 60: '90416a3f-1cab-4973-82b0-65d8860158f7',\n",
       " 61: '59fabcd7-a73b-4908-9ec2-7b67a57099a3',\n",
       " 62: 'cbee9a7d-cddf-4070-8ae4-35ce2ecbb358',\n",
       " 63: '6850c58c-b997-4f92-a90b-5e1996a56cfe',\n",
       " 64: 'de8f3921-3e0c-4937-8cb5-2bcf74f4824d',\n",
       " 65: 'f57a9a72-4d70-4189-ad03-08c5773bd08b',\n",
       " 66: 'a9a80613-1106-4e75-b107-d6c2277f47c8',\n",
       " 67: '06356b44-b349-4882-a63e-15682315311b',\n",
       " 68: 'b90004b9-8911-4f89-986f-f42580d1014f',\n",
       " 69: '2eb62ee1-7658-441f-8afa-7bb16f175ca5',\n",
       " 70: 'cd1b273f-a8e2-459b-9644-f04c38459c4f',\n",
       " 71: 'f7ad05db-4090-4380-8fa5-49824f0f566a',\n",
       " 72: '7eefd64f-58c2-4b68-a45a-c30df67ab0d8',\n",
       " 73: '5a5cf8e1-4f13-449b-b9ac-1f0d1f4f81a4',\n",
       " 74: '6d1433eb-7a29-4493-a392-3c1ec1b03cd4',\n",
       " 75: '794e45c6-8ca5-452b-a4e8-f994e5fef909',\n",
       " 76: '4f3decdd-1f18-42ad-81f8-2191224a6225',\n",
       " 77: '27f14ed4-bd61-4cd3-be8f-138f80b78a62',\n",
       " 78: '6afebc66-4f5f-420e-ac30-a968cc0da444',\n",
       " 79: 'd7f2d17d-f6c0-4599-9b8d-47246f0c7c65',\n",
       " 80: '459e9fa3-d35c-4ed1-8b1f-9d3c39f1cdef',\n",
       " 81: 'c8862653-3ef7-4d05-8c92-14fa8d0118fd',\n",
       " 82: '4603f411-414e-450f-b221-93fbda693a2c',\n",
       " 83: '6eb54845-d27f-4bac-8265-1e7ae2e30f18',\n",
       " 84: 'a0b42483-5779-4d0b-9515-acfae2a55ec3'}"
      ]
     },
     "execution_count": 82,
     "metadata": {},
     "output_type": "execute_result"
    }
   ],
   "source": [
    "vector_store.index_to_docstore_id"
   ]
  },
  {
   "cell_type": "code",
   "execution_count": 83,
   "id": "205b456b",
   "metadata": {},
   "outputs": [],
   "source": [
    "retriever = vector_store.as_retriever(search_type = \"similarity\", search_kwargs={\"k\":4})"
   ]
  },
  {
   "cell_type": "code",
   "execution_count": 84,
   "id": "01cbd965",
   "metadata": {},
   "outputs": [
    {
     "data": {
      "text/plain": [
       "VectorStoreRetriever(tags=['FAISS', 'GoogleGenerativeAIEmbeddings'], vectorstore=<langchain_community.vectorstores.faiss.FAISS object at 0x0000029F0A3F5A90>, search_kwargs={'k': 4})"
      ]
     },
     "execution_count": 84,
     "metadata": {},
     "output_type": "execute_result"
    }
   ],
   "source": [
    "retriever"
   ]
  },
  {
   "cell_type": "code",
   "execution_count": 85,
   "id": "4a969028",
   "metadata": {},
   "outputs": [
    {
     "data": {
      "text/plain": [
       "[Document(id='18bfd52c-c9c7-455d-837d-d797aeccf37e', metadata={}, page_content='language model is a sophisticated mathematical function that predicts what word comes next for any'),\n",
       " Document(id='2b0785a6-74a9-4333-8175-16c0d3e9c357', metadata={}, page_content=\"the dialogue. When you interact with a chatbot, this is exactly what's happening. A large language\"),\n",
       " Document(id='5eb8a396-2766-48d2-bea9-15b4be4c532b', metadata={}, page_content='large in large language model is how they can have hundreds of billions of these parameters. No'),\n",
       " Document(id='815c1748-6a31-46ef-be6e-63c4b7c8e5e4', metadata={}, page_content='for any piece of text. Instead of predicting one word with certainty, though, what it does is')]"
      ]
     },
     "execution_count": 85,
     "metadata": {},
     "output_type": "execute_result"
    }
   ],
   "source": [
    "retriever.invoke(\"what is LLM\")"
   ]
  },
  {
   "cell_type": "code",
   "execution_count": 95,
   "id": "46a0aaf0",
   "metadata": {},
   "outputs": [],
   "source": [
    "\n",
    "llm =  ChatOpenAI(\n",
    "    model = \"gpt-4o-mini\",\n",
    "    api_key= os.getenv(\"OPENROUTER_API_KEY\"),\n",
    "    base_url=os.getenv(\"OPENAI_API_BASE\"),\n",
    "    temperature=0.2\n",
    ")"
   ]
  },
  {
   "cell_type": "code",
   "execution_count": 96,
   "id": "92637ea3",
   "metadata": {},
   "outputs": [],
   "source": [
    "prompt=  PromptTemplate(\n",
    "    template=\"\"\"\n",
    "    You are a helpful assisstant.\n",
    "    Answer Only from the provided transcript context.\n",
    "    If the context is insufficient, just say you don't know.\n",
    "    {context}\n",
    "    Question: {question}\n",
    "\"\"\",\n",
    "input_variables=['context', 'question']\n",
    ")"
   ]
  },
  {
   "cell_type": "code",
   "execution_count": 97,
   "id": "dcf0e540",
   "metadata": {},
   "outputs": [],
   "source": [
    "question = \" Is the topic of LLM discussed in this video, if yes then what was discussed\"\n",
    "retrieved_docs = retriever.invoke(question)"
   ]
  },
  {
   "cell_type": "code",
   "execution_count": 98,
   "id": "b0946b99",
   "metadata": {},
   "outputs": [],
   "source": [
    "context_text = \"\\n\\n\".join(doc.page_content for doc in retrieved_docs)"
   ]
  },
  {
   "cell_type": "code",
   "execution_count": 99,
   "id": "4974a33c",
   "metadata": {},
   "outputs": [],
   "source": [
    "final_prompt = prompt.invoke({\"context\":context_text, \"question\":question})"
   ]
  },
  {
   "cell_type": "code",
   "execution_count": 100,
   "id": "7787eb3d",
   "metadata": {},
   "outputs": [
    {
     "data": {
      "text/plain": [
       "StringPromptValue(text=\"\\n    You are a helpful assisstant.\\n    Answer Only from the provided transcript context.\\n    If the context is insufficient, just say you don't know.\\n    Also, on my second channel I just posted a talk I gave a couple months ago about this topic for the\\n\\ndo all of the operations involved in training the largest language models? Do you think it would\\n\\nthe dialogue. When you interact with a chatbot, this is exactly what's happening. A large language\\n\\nlarge in large language model is how they can have hundreds of billions of these parameters. No\\n    Question:  Is the topic of LLM discussed in this video, if yes then what was discussed\\n\")"
      ]
     },
     "execution_count": 100,
     "metadata": {},
     "output_type": "execute_result"
    }
   ],
   "source": [
    "final_prompt"
   ]
  },
  {
   "cell_type": "code",
   "execution_count": 101,
   "id": "5d942f8a",
   "metadata": {},
   "outputs": [
    {
     "name": "stdout",
     "output_type": "stream",
     "text": [
      "Yes, the topic of large language models (LLMs) is discussed in the video. It mentions the operations involved in training the largest language models and highlights that these models can have hundreds of billions of parameters.\n"
     ]
    }
   ],
   "source": [
    "\n",
    "\n",
    "answer = llm.invoke(final_prompt)\n",
    "print(answer.content)\n",
    "\n"
   ]
  },
  {
   "cell_type": "code",
   "execution_count": 102,
   "id": "7093134c",
   "metadata": {},
   "outputs": [],
   "source": [
    "from langchain_core.runnables import RunnableParallel, RunnableLambda, RunnablePassthrough\n",
    "from langchain_core.output_parsers import StrOutputParser"
   ]
  },
  {
   "cell_type": "code",
   "execution_count": 103,
   "id": "dad8ae92",
   "metadata": {},
   "outputs": [],
   "source": [
    "def format_docs(retrieved_docs):\n",
    "    context_text = \"\\n\\n\".join(doc.page_content for doc in retrieved_docs)\n",
    "    return context_text"
   ]
  },
  {
   "cell_type": "code",
   "execution_count": 105,
   "id": "99f2a5b7",
   "metadata": {},
   "outputs": [],
   "source": [
    "parallel_chain = RunnableParallel({\n",
    "    'context': retriever | RunnableLambda(format_docs),\n",
    "    'question': RunnablePassthrough()\n",
    "})"
   ]
  },
  {
   "cell_type": "code",
   "execution_count": 106,
   "id": "847b938d",
   "metadata": {},
   "outputs": [
    {
     "data": {
      "text/plain": [
       "{'context': \"language model is a sophisticated mathematical function that predicts what word comes next for any\\n\\nthe dialogue. When you interact with a chatbot, this is exactly what's happening. A large language\\n\\nlarge in large language model is how they can have hundreds of billions of these parameters. No\\n\\nfor any piece of text. Instead of predicting one word with certainty, though, what it does is\",\n",
       " 'question': 'what is LLM'}"
      ]
     },
     "execution_count": 106,
     "metadata": {},
     "output_type": "execute_result"
    }
   ],
   "source": [
    "parallel_chain.invoke(\"what is LLM\")"
   ]
  },
  {
   "cell_type": "code",
   "execution_count": 107,
   "id": "ddf6c486",
   "metadata": {},
   "outputs": [
    {
     "data": {
      "text/plain": [
       "\"I don't know.\""
      ]
     },
     "execution_count": 107,
     "metadata": {},
     "output_type": "execute_result"
    }
   ],
   "source": [
    "parser = StrOutputParser()\n",
    "main_chain = parallel_chain | prompt | llm | parser\n",
    "main_chain.invoke(\"Summarize this video\")"
   ]
  },
  {
   "cell_type": "code",
   "execution_count": null,
   "id": "712a26c6",
   "metadata": {},
   "outputs": [],
   "source": []
  }
 ],
 "metadata": {
  "kernelspec": {
   "display_name": "base",
   "language": "python",
   "name": "python3"
  },
  "language_info": {
   "codemirror_mode": {
    "name": "ipython",
    "version": 3
   },
   "file_extension": ".py",
   "mimetype": "text/x-python",
   "name": "python",
   "nbconvert_exporter": "python",
   "pygments_lexer": "ipython3",
   "version": "3.13.5"
  }
 },
 "nbformat": 4,
 "nbformat_minor": 5
}
