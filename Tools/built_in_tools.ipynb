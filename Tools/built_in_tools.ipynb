{
 "cells": [
  {
   "cell_type": "code",
   "execution_count": 1,
   "id": "faeb11b8",
   "metadata": {},
   "outputs": [
    {
     "name": "stdout",
     "output_type": "stream",
     "text": [
      "Collecting duckduckgo-search\n",
      "  Downloading duckduckgo_search-8.1.1-py3-none-any.whl.metadata (16 kB)\n",
      "Requirement already satisfied: click>=8.1.8 in c:\\users\\aayus\\appdata\\roaming\\python\\python313\\site-packages (from duckduckgo-search) (8.1.8)\n",
      "Collecting primp>=0.15.0 (from duckduckgo-search)\n",
      "  Downloading primp-0.15.0-cp38-abi3-win_amd64.whl.metadata (13 kB)\n",
      "Requirement already satisfied: lxml>=5.3.0 in c:\\users\\aayus\\anaconda3\\lib\\site-packages (from duckduckgo-search) (5.3.0)\n",
      "Requirement already satisfied: colorama in c:\\users\\aayus\\appdata\\roaming\\python\\python313\\site-packages (from click>=8.1.8->duckduckgo-search) (0.4.6)\n",
      "Downloading duckduckgo_search-8.1.1-py3-none-any.whl (18 kB)\n",
      "Downloading primp-0.15.0-cp38-abi3-win_amd64.whl (3.1 MB)\n",
      "   ---------------------------------------- 0.0/3.1 MB ? eta -:--:--\n",
      "   ----------------------------- ---------- 2.4/3.1 MB 11.9 MB/s eta 0:00:01\n",
      "   ---------------------------------------- 3.1/3.1 MB 9.9 MB/s  0:00:00\n",
      "Installing collected packages: primp, duckduckgo-search\n",
      "\n",
      "   -------------------- ------------------- 1/2 [duckduckgo-search]\n",
      "   ---------------------------------------- 2/2 [duckduckgo-search]\n",
      "\n",
      "Successfully installed duckduckgo-search-8.1.1 primp-0.15.0\n",
      "Note: you may need to restart the kernel to use updated packages.\n"
     ]
    }
   ],
   "source": [
    "%pip install duckduckgo-search"
   ]
  },
  {
   "cell_type": "code",
   "execution_count": 2,
   "id": "7795427e",
   "metadata": {},
   "outputs": [
    {
     "name": "stdout",
     "output_type": "stream",
     "text": [
      "Collecting ddgs\n",
      "  Downloading ddgs-9.6.0-py3-none-any.whl.metadata (18 kB)\n",
      "Requirement already satisfied: click>=8.1.8 in c:\\users\\aayus\\appdata\\roaming\\python\\python313\\site-packages (from ddgs) (8.1.8)\n",
      "Requirement already satisfied: primp>=0.15.0 in c:\\users\\aayus\\anaconda3\\lib\\site-packages (from ddgs) (0.15.0)\n",
      "Collecting lxml>=6.0.0 (from ddgs)\n",
      "  Downloading lxml-6.0.2-cp313-cp313-win_amd64.whl.metadata (3.7 kB)\n",
      "Requirement already satisfied: httpx>=0.28.1 in c:\\users\\aayus\\anaconda3\\lib\\site-packages (from httpx[brotli,http2,socks]>=0.28.1->ddgs) (0.28.1)\n",
      "Requirement already satisfied: colorama in c:\\users\\aayus\\appdata\\roaming\\python\\python313\\site-packages (from click>=8.1.8->ddgs) (0.4.6)\n",
      "Requirement already satisfied: anyio in c:\\users\\aayus\\anaconda3\\lib\\site-packages (from httpx>=0.28.1->httpx[brotli,http2,socks]>=0.28.1->ddgs) (4.7.0)\n",
      "Requirement already satisfied: certifi in c:\\users\\aayus\\appdata\\roaming\\python\\python313\\site-packages (from httpx>=0.28.1->httpx[brotli,http2,socks]>=0.28.1->ddgs) (2025.1.31)\n",
      "Requirement already satisfied: httpcore==1.* in c:\\users\\aayus\\anaconda3\\lib\\site-packages (from httpx>=0.28.1->httpx[brotli,http2,socks]>=0.28.1->ddgs) (1.0.9)\n",
      "Requirement already satisfied: idna in c:\\users\\aayus\\appdata\\roaming\\python\\python313\\site-packages (from httpx>=0.28.1->httpx[brotli,http2,socks]>=0.28.1->ddgs) (3.10)\n",
      "Requirement already satisfied: h11>=0.16 in c:\\users\\aayus\\anaconda3\\lib\\site-packages (from httpcore==1.*->httpx>=0.28.1->httpx[brotli,http2,socks]>=0.28.1->ddgs) (0.16.0)\n",
      "Requirement already satisfied: brotli in c:\\users\\aayus\\anaconda3\\lib\\site-packages (from httpx[brotli,http2,socks]>=0.28.1->ddgs) (1.0.9)\n",
      "Requirement already satisfied: h2<5,>=3 in c:\\users\\aayus\\anaconda3\\lib\\site-packages (from httpx[brotli,http2,socks]>=0.28.1->ddgs) (4.3.0)\n",
      "Collecting socksio==1.* (from httpx[brotli,http2,socks]>=0.28.1->ddgs)\n",
      "  Downloading socksio-1.0.0-py3-none-any.whl.metadata (6.1 kB)\n",
      "Requirement already satisfied: hyperframe<7,>=6.1 in c:\\users\\aayus\\anaconda3\\lib\\site-packages (from h2<5,>=3->httpx[brotli,http2,socks]>=0.28.1->ddgs) (6.1.0)\n",
      "Requirement already satisfied: hpack<5,>=4.1 in c:\\users\\aayus\\anaconda3\\lib\\site-packages (from h2<5,>=3->httpx[brotli,http2,socks]>=0.28.1->ddgs) (4.1.0)\n",
      "Requirement already satisfied: sniffio>=1.1 in c:\\users\\aayus\\anaconda3\\lib\\site-packages (from anyio->httpx>=0.28.1->httpx[brotli,http2,socks]>=0.28.1->ddgs) (1.3.0)\n",
      "Downloading ddgs-9.6.0-py3-none-any.whl (41 kB)\n",
      "Downloading socksio-1.0.0-py3-none-any.whl (12 kB)\n",
      "Downloading lxml-6.0.2-cp313-cp313-win_amd64.whl (4.0 MB)\n",
      "   ---------------------------------------- 0.0/4.0 MB ? eta -:--:--\n",
      "   -------------------- ------------------- 2.1/4.0 MB 10.3 MB/s eta 0:00:01\n",
      "   ---------------------------------------  3.9/4.0 MB 10.7 MB/s eta 0:00:01\n",
      "   ---------------------------------------- 4.0/4.0 MB 9.2 MB/s  0:00:00\n",
      "Installing collected packages: socksio, lxml, ddgs\n",
      "\n",
      "  Attempting uninstall: lxml\n",
      "\n",
      "    Found existing installation: lxml 5.3.0\n",
      "\n",
      "    Uninstalling lxml-5.3.0:\n",
      "\n",
      "   ------------- -------------------------- 1/3 [lxml]\n",
      "   ------------- -------------------------- 1/3 [lxml]\n",
      "   ------------- -------------------------- 1/3 [lxml]\n",
      "   ------------- -------------------------- 1/3 [lxml]\n",
      "   ------------- -------------------------- 1/3 [lxml]\n",
      "   ------------- -------------------------- 1/3 [lxml]\n",
      "   ------------- -------------------------- 1/3 [lxml]\n",
      "   ------------- -------------------------- 1/3 [lxml]\n",
      "   ------------- -------------------------- 1/3 [lxml]\n",
      "   ------------- -------------------------- 1/3 [lxml]\n",
      "   ------------- -------------------------- 1/3 [lxml]\n",
      "   ------------- -------------------------- 1/3 [lxml]\n",
      "   ------------- -------------------------- 1/3 [lxml]\n",
      "   ------------- -------------------------- 1/3 [lxml]\n",
      "   ------------- -------------------------- 1/3 [lxml]\n",
      "   ------------- -------------------------- 1/3 [lxml]\n",
      "   ------------- -------------------------- 1/3 [lxml]\n",
      "   ------------- -------------------------- 1/3 [lxml]\n",
      "   ------------- -------------------------- 1/3 [lxml]\n",
      "   ------------- -------------------------- 1/3 [lxml]\n",
      "   ------------- -------------------------- 1/3 [lxml]\n",
      "   ------------- -------------------------- 1/3 [lxml]\n",
      "   ------------- -------------------------- 1/3 [lxml]\n",
      "   ------------- -------------------------- 1/3 [lxml]\n",
      "   ------------- -------------------------- 1/3 [lxml]\n",
      "   ------------- -------------------------- 1/3 [lxml]\n",
      "   ------------- -------------------------- 1/3 [lxml]\n",
      "   ------------- -------------------------- 1/3 [lxml]\n",
      "   ------------- -------------------------- 1/3 [lxml]\n",
      "   ------------- -------------------------- 1/3 [lxml]\n",
      "   ------------- -------------------------- 1/3 [lxml]\n",
      "   ------------- -------------------------- 1/3 [lxml]\n",
      "   ------------- -------------------------- 1/3 [lxml]\n",
      "   ------------- -------------------------- 1/3 [lxml]\n",
      "   ------------- -------------------------- 1/3 [lxml]\n",
      "   ------------- -------------------------- 1/3 [lxml]\n",
      "   ------------- -------------------------- 1/3 [lxml]\n",
      "   ------------- -------------------------- 1/3 [lxml]\n",
      "   ------------- -------------------------- 1/3 [lxml]\n",
      "   ------------- -------------------------- 1/3 [lxml]\n",
      "   ------------- -------------------------- 1/3 [lxml]\n",
      "   ------------- -------------------------- 1/3 [lxml]\n",
      "   ------------- -------------------------- 1/3 [lxml]\n",
      "   ------------- -------------------------- 1/3 [lxml]\n",
      "   ------------- -------------------------- 1/3 [lxml]\n",
      "   ------------- -------------------------- 1/3 [lxml]\n",
      "   ------------- -------------------------- 1/3 [lxml]\n",
      "   ------------- -------------------------- 1/3 [lxml]\n",
      "   ------------- -------------------------- 1/3 [lxml]\n",
      "   ------------- -------------------------- 1/3 [lxml]\n",
      "   ------------- -------------------------- 1/3 [lxml]\n",
      "   ------------- -------------------------- 1/3 [lxml]\n",
      "   ------------- -------------------------- 1/3 [lxml]\n",
      "   ------------- -------------------------- 1/3 [lxml]\n",
      "   ------------- -------------------------- 1/3 [lxml]\n",
      "   ------------- -------------------------- 1/3 [lxml]\n",
      "   ------------- -------------------------- 1/3 [lxml]\n",
      "   ------------- -------------------------- 1/3 [lxml]\n",
      "   ------------- -------------------------- 1/3 [lxml]\n",
      "   ------------- -------------------------- 1/3 [lxml]\n",
      "   ------------- -------------------------- 1/3 [lxml]\n",
      "   ------------- -------------------------- 1/3 [lxml]\n",
      "   ------------- -------------------------- 1/3 [lxml]\n",
      "   ------------- -------------------------- 1/3 [lxml]\n",
      "   ------------- -------------------------- 1/3 [lxml]\n",
      "   ------------- -------------------------- 1/3 [lxml]\n",
      "      Successfully uninstalled lxml-5.3.0\n",
      "   ------------- -------------------------- 1/3 [lxml]\n",
      "   ------------- -------------------------- 1/3 [lxml]\n",
      "   ------------- -------------------------- 1/3 [lxml]\n",
      "   ------------- -------------------------- 1/3 [lxml]\n",
      "   -------------------------- ------------- 2/3 [ddgs]\n",
      "   ---------------------------------------- 3/3 [ddgs]\n",
      "\n",
      "Successfully installed ddgs-9.6.0 lxml-6.0.2 socksio-1.0.0\n",
      "Note: you may need to restart the kernel to use updated packages.\n"
     ]
    }
   ],
   "source": [
    "%pip install -U ddgs"
   ]
  },
  {
   "cell_type": "markdown",
   "id": "6ff65b3f",
   "metadata": {},
   "source": [
    "Duck Duck Go Search"
   ]
  },
  {
   "cell_type": "code",
   "execution_count": 1,
   "id": "6f918354",
   "metadata": {},
   "outputs": [
    {
     "name": "stdout",
     "output_type": "stream",
     "text": [
      "The official IPL website with live scores, match updates, team rankings, all the latest news, and videos . Follow your favorite teams and players! IPL 2023: Get the latest news on T20 IPL live score, points table, schedule... Also supports IPL teams owning franchises elsewhere, but does not expect Indian men's players to feature anytime soon. Pat Cummins and Travis Head have turned down lucrative offers worth $10 million per year from an IPL team group to quit international cricket and play in T20 leagues across the globe. Read all the latest information related to Cricket, live scores,Cricket news , results, stats, videos, highlights.\n"
     ]
    }
   ],
   "source": [
    "from langchain_community.tools import DuckDuckGoSearchRun\n",
    "\n",
    "search_tool = DuckDuckGoSearchRun()\n",
    "results = search_tool.invoke('ipl news')\n",
    "\n",
    "print(results)"
   ]
  },
  {
   "cell_type": "markdown",
   "id": "b78b4c6b",
   "metadata": {},
   "source": [
    "Shell Tool"
   ]
  },
  {
   "cell_type": "code",
   "execution_count": 3,
   "id": "59d3f6b6",
   "metadata": {},
   "outputs": [
    {
     "name": "stdout",
     "output_type": "stream",
     "text": [
      "Executing command:\n",
      " whoami\n"
     ]
    },
    {
     "name": "stderr",
     "output_type": "stream",
     "text": [
      "c:\\Users\\aayus\\anaconda3\\Lib\\site-packages\\langchain_community\\tools\\shell\\tool.py:33: UserWarning: The shell tool has no safeguards by default. Use at your own risk.\n",
      "  warnings.warn(\n"
     ]
    }
   ],
   "source": [
    "from langchain_community.tools import ShellTool\n",
    "\n",
    "shell_tool = ShellTool()\n",
    "results = shell_tool.invoke('whoami')\n",
    "# print(results)"
   ]
  },
  {
   "cell_type": "code",
   "execution_count": null,
   "id": "8c569b3a",
   "metadata": {},
   "outputs": [],
   "source": []
  }
 ],
 "metadata": {
  "kernelspec": {
   "display_name": "base",
   "language": "python",
   "name": "python3"
  },
  "language_info": {
   "codemirror_mode": {
    "name": "ipython",
    "version": 3
   },
   "file_extension": ".py",
   "mimetype": "text/x-python",
   "name": "python",
   "nbconvert_exporter": "python",
   "pygments_lexer": "ipython3",
   "version": "3.13.5"
  }
 },
 "nbformat": 4,
 "nbformat_minor": 5
}
