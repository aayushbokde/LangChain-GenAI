{
 "cells": [
  {
   "cell_type": "code",
   "execution_count": 2,
   "id": "3be16eea",
   "metadata": {},
   "outputs": [],
   "source": [
    "from langchain_core.tools import tool"
   ]
  },
  {
   "cell_type": "code",
   "execution_count": 3,
   "id": "9b4e436c",
   "metadata": {},
   "outputs": [],
   "source": [
    "def multiply(a, b):\n",
    "    #multiply two Numbers\n",
    "    return a*b"
   ]
  },
  {
   "cell_type": "code",
   "execution_count": null,
   "id": "75f7c3b1",
   "metadata": {},
   "outputs": [],
   "source": [
    "#type hinting\n",
    "def multiply(a: int, b:int):\n",
    "    \"\"\"Multiply two numbers\"\"\"\n",
    "    return a*b"
   ]
  },
  {
   "cell_type": "code",
   "execution_count": 5,
   "id": "4b9490ac",
   "metadata": {},
   "outputs": [],
   "source": [
    "#add tool decorator\n",
    "@tool\n",
    "def multiply(a: int, b: int) -> int:\n",
    "    \"\"\"Multiply two numbers\"\"\"\n",
    "    return a*b"
   ]
  },
  {
   "cell_type": "code",
   "execution_count": 7,
   "id": "2045abb5",
   "metadata": {},
   "outputs": [
    {
     "name": "stdout",
     "output_type": "stream",
     "text": [
      "6\n"
     ]
    }
   ],
   "source": [
    "result = multiply.invoke({\"a\":3, \"b\":2})\n",
    "print(result)"
   ]
  },
  {
   "cell_type": "code",
   "execution_count": 8,
   "id": "3e097c5a",
   "metadata": {},
   "outputs": [
    {
     "name": "stdout",
     "output_type": "stream",
     "text": [
      "multiply\n"
     ]
    }
   ],
   "source": [
    "print(multiply.name)"
   ]
  },
  {
   "cell_type": "code",
   "execution_count": 9,
   "id": "5858194d",
   "metadata": {},
   "outputs": [
    {
     "name": "stdout",
     "output_type": "stream",
     "text": [
      "Multiply two numbers\n"
     ]
    }
   ],
   "source": [
    "print(multiply.description)"
   ]
  },
  {
   "cell_type": "code",
   "execution_count": 10,
   "id": "ca1650b6",
   "metadata": {},
   "outputs": [
    {
     "name": "stdout",
     "output_type": "stream",
     "text": [
      "{'a': {'title': 'A', 'type': 'integer'}, 'b': {'title': 'B', 'type': 'integer'}}\n"
     ]
    }
   ],
   "source": [
    "print(multiply.args)"
   ]
  },
  {
   "cell_type": "code",
   "execution_count": null,
   "id": "f5d8422f",
   "metadata": {},
   "outputs": [],
   "source": []
  },
  {
   "cell_type": "markdown",
   "id": "880025a8",
   "metadata": {},
   "source": [
    "Using Structured Tool"
   ]
  },
  {
   "cell_type": "code",
   "execution_count": 11,
   "id": "6328753f",
   "metadata": {},
   "outputs": [],
   "source": [
    "from langchain.tools import StructuredTool\n",
    "from pydantic import BaseModel, Field"
   ]
  },
  {
   "cell_type": "code",
   "execution_count": 12,
   "id": "f57ee33a",
   "metadata": {},
   "outputs": [],
   "source": [
    "class Multiplyinput(BaseModel):\n",
    "    a: int = Field(required = True, description=\"The first element to multiply\")\n",
    "    b: int = Field(required = True, description=\"The second element to multiply\")"
   ]
  },
  {
   "cell_type": "code",
   "execution_count": 15,
   "id": "cf1dd188",
   "metadata": {},
   "outputs": [],
   "source": [
    "def multiply_func(a: int, b: int) -> int:\n",
    "    return a*b"
   ]
  },
  {
   "cell_type": "code",
   "execution_count": 16,
   "id": "7c9a5642",
   "metadata": {},
   "outputs": [],
   "source": [
    "multiply_tool = StructuredTool.from_function(\n",
    "    func=multiply_func,\n",
    "    name=\"multiply\",\n",
    "    description=\"multiply two numbers\",\n",
    "    args_schema = Multiplyinput\n",
    ") \n",
    "#using StructuredTool class to enforce the pydantic schema on the function"
   ]
  },
  {
   "cell_type": "code",
   "execution_count": 21,
   "id": "2fb213ed",
   "metadata": {},
   "outputs": [
    {
     "name": "stdout",
     "output_type": "stream",
     "text": [
      "24\n"
     ]
    }
   ],
   "source": [
    "result = multiply_tool.invoke({'a':3, 'b':8})\n",
    "print(result)"
   ]
  },
  {
   "cell_type": "code",
   "execution_count": null,
   "id": "44ee183e",
   "metadata": {},
   "outputs": [],
   "source": []
  },
  {
   "cell_type": "markdown",
   "id": "9c490ad3",
   "metadata": {},
   "source": [
    "Using BaseTool Class"
   ]
  },
  {
   "cell_type": "code",
   "execution_count": 22,
   "id": "68e5f06c",
   "metadata": {},
   "outputs": [],
   "source": [
    "from langchain.tools  import BaseTool\n",
    "from typing import Type"
   ]
  },
  {
   "cell_type": "code",
   "execution_count": 23,
   "id": "c7e348cf",
   "metadata": {},
   "outputs": [],
   "source": [
    "#args schema using pydantic\n",
    "class Multiplyinput(BaseModel):\n",
    "    a: int = Field(description=\"the first number must be integer\", required = True)\n",
    "    b: int = Field(description=\"the second number must be integer\", required = True)"
   ]
  },
  {
   "cell_type": "code",
   "execution_count": 24,
   "id": "b7841feb",
   "metadata": {},
   "outputs": [],
   "source": [
    "class MultiplyTool(BaseTool):\n",
    "    name: str= \"multiply\"\n",
    "    description: str = \"Multiply two numbers\"\n",
    "\n",
    "    args_schema: Type[BaseModel] = Multiplyinput\n",
    "\n",
    "    def _run(self, a, b) -> int:\n",
    "        return a*b"
   ]
  },
  {
   "cell_type": "code",
   "execution_count": 32,
   "id": "9c21c1f6",
   "metadata": {},
   "outputs": [
    {
     "name": "stdout",
     "output_type": "stream",
     "text": [
      "96\n"
     ]
    }
   ],
   "source": [
    "mult = MultiplyTool()\n",
    "result = mult.invoke({'a':3, \"b\":32})\n",
    "print(result)\n"
   ]
  },
  {
   "cell_type": "code",
   "execution_count": null,
   "id": "6a090868",
   "metadata": {},
   "outputs": [],
   "source": []
  }
 ],
 "metadata": {
  "kernelspec": {
   "display_name": "base",
   "language": "python",
   "name": "python3"
  },
  "language_info": {
   "codemirror_mode": {
    "name": "ipython",
    "version": 3
   },
   "file_extension": ".py",
   "mimetype": "text/x-python",
   "name": "python",
   "nbconvert_exporter": "python",
   "pygments_lexer": "ipython3",
   "version": "3.13.5"
  }
 },
 "nbformat": 4,
 "nbformat_minor": 5
}
