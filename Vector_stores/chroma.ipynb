{
 "cells": [
  {
   "cell_type": "code",
   "execution_count": 2,
   "id": "0d356bc5",
   "metadata": {},
   "outputs": [],
   "source": [
    "from langchain_google_genai import GoogleGenerativeAIEmbeddings\n",
    "from langchain.vectorstores import Chroma"
   ]
  },
  {
   "cell_type": "code",
   "execution_count": 5,
   "id": "5a4ac159",
   "metadata": {},
   "outputs": [],
   "source": [
    "from langchain.schema import Document\n",
    "\n",
    "# creating Langchain documents\n",
    "\n",
    "doc1 = Document(\n",
    "    page_content=\"Virat Kohi is the king of IPL\",\n",
    "    metadata={\"team\": \"RCB\"}\n",
    ")\n",
    "\n",
    "doc2 = Document(\n",
    "    page_content=\"Rohit Sharma is good player\",\n",
    "    metadata = {\"team\": \"MI\"}\n",
    ")\n",
    "\n",
    "doc3 = Document(\n",
    "    page_content=\"MSD is captain cool\",\n",
    "    metadata = {\"team\": \"CSK\"}\n",
    ")"
   ]
  },
  {
   "cell_type": "code",
   "execution_count": 6,
   "id": "77b845fe",
   "metadata": {},
   "outputs": [],
   "source": [
    "\n",
    "docs = [doc1, doc2, doc3]"
   ]
  },
  {
   "cell_type": "code",
   "execution_count": 7,
   "id": "b7c5bacd",
   "metadata": {},
   "outputs": [
    {
     "name": "stderr",
     "output_type": "stream",
     "text": [
      "C:\\Users\\aayus\\AppData\\Local\\Temp\\ipykernel_2716\\461859795.py:1: LangChainDeprecationWarning: The class `Chroma` was deprecated in LangChain 0.2.9 and will be removed in 1.0. An updated version of the class exists in the :class:`~langchain-chroma package and should be used instead. To use it run `pip install -U :class:`~langchain-chroma` and import as `from :class:`~langchain_chroma import Chroma``.\n",
      "  vector_store = Chroma(\n"
     ]
    }
   ],
   "source": [
    "vector_store = Chroma(\n",
    "    embedding_function=GoogleGenerativeAIEmbeddings(\n",
    "        model=\"gemini-embedding-001\"\n",
    "    ),\n",
    "    persist_directory='chroma_db',\n",
    "    collection_name='sample'\n",
    ")"
   ]
  },
  {
   "cell_type": "code",
   "execution_count": 8,
   "id": "2c4fe57f",
   "metadata": {},
   "outputs": [
    {
     "data": {
      "text/plain": [
       "['5ef7c16b-c961-4a1e-8626-599343d1ecec',\n",
       " '741dabe2-43f9-4398-b312-1d0b243ab2b9',\n",
       " '9e68706c-1578-4e12-b837-28df240a868a']"
      ]
     },
     "execution_count": 8,
     "metadata": {},
     "output_type": "execute_result"
    }
   ],
   "source": [
    "vector_store.add_documents(docs)"
   ]
  },
  {
   "cell_type": "code",
   "execution_count": 10,
   "id": "8cb744a0",
   "metadata": {},
   "outputs": [
    {
     "data": {
      "text/plain": [
       "{'ids': ['5ef7c16b-c961-4a1e-8626-599343d1ecec',\n",
       "  '741dabe2-43f9-4398-b312-1d0b243ab2b9',\n",
       "  '9e68706c-1578-4e12-b837-28df240a868a'],\n",
       " 'embeddings': array([[-0.0211794 ,  0.00827243,  0.02611976, ...,  0.01753195,\n",
       "         -0.0215484 , -0.01005369],\n",
       "        [-0.02684962,  0.01051292,  0.02093918, ...,  0.00714837,\n",
       "         -0.01413428, -0.00337904],\n",
       "        [-0.01028546, -0.0128946 ,  0.01876419, ...,  0.01642916,\n",
       "         -0.01794407, -0.00932398]], shape=(3, 3072)),\n",
       " 'documents': ['Virat Kohi is the king of IPL',\n",
       "  'Rohit Sharma is good player',\n",
       "  'MSD is captain cool'],\n",
       " 'uris': None,\n",
       " 'included': ['embeddings', 'documents', 'metadatas'],\n",
       " 'data': None,\n",
       " 'metadatas': [{'team': 'RCB'}, {'team': 'MI'}, {'team': 'CSK'}]}"
      ]
     },
     "execution_count": 10,
     "metadata": {},
     "output_type": "execute_result"
    }
   ],
   "source": [
    "vector_store.get(include=['embeddings', 'documents', 'metadatas'])"
   ]
  },
  {
   "cell_type": "code",
   "execution_count": 13,
   "id": "27b723e1",
   "metadata": {},
   "outputs": [
    {
     "data": {
      "text/plain": [
       "[Document(metadata={'team': 'RCB'}, page_content='Virat Kohi is the king of IPL')]"
      ]
     },
     "execution_count": 13,
     "metadata": {},
     "output_type": "execute_result"
    }
   ],
   "source": [
    "# similarity search\n",
    "vector_store.similarity_search(\n",
    "    query='Who among these is king',\n",
    "    k = 1\n",
    ")"
   ]
  },
  {
   "cell_type": "code",
   "execution_count": 14,
   "id": "f5365e81",
   "metadata": {},
   "outputs": [
    {
     "data": {
      "text/plain": [
       "[(Document(metadata={'team': 'RCB'}, page_content='Virat Kohi is the king of IPL'),\n",
       "  0.43813788890838623)]"
      ]
     },
     "execution_count": 14,
     "metadata": {},
     "output_type": "execute_result"
    }
   ],
   "source": [
    "#similarity search with score\n",
    "vector_store.similarity_search_with_score(\n",
    "    query='who is the king',\n",
    "    k=1\n",
    ")"
   ]
  },
  {
   "cell_type": "code",
   "execution_count": 18,
   "id": "338e8965",
   "metadata": {},
   "outputs": [
    {
     "data": {
      "text/plain": [
       "[(Document(metadata={'team': 'CSK'}, page_content='MSD is captain cool'),\n",
       "  0.4628012180328369)]"
      ]
     },
     "execution_count": 18,
     "metadata": {},
     "output_type": "execute_result"
    }
   ],
   "source": [
    "#metadata filtering\n",
    "vector_store.similarity_search_with_score(\n",
    "    query=\" \",\n",
    "    filter={\"team\":\"CSK\"}\n",
    ")"
   ]
  },
  {
   "cell_type": "code",
   "execution_count": 19,
   "id": "1d75e079",
   "metadata": {},
   "outputs": [],
   "source": [
    "updated_doc1 = Document(\n",
    "    page_content=\"Virat kohli is kinda agressive player\",\n",
    "    metadata={\"team\":\"RCB\"}\n",
    ")\n",
    "\n",
    "vector_store.update_document(document_id='5ef7c16b-c961-4a1e-8626-599343d1ecec', document=updated_doc1)"
   ]
  },
  {
   "cell_type": "code",
   "execution_count": 20,
   "id": "53add496",
   "metadata": {},
   "outputs": [
    {
     "data": {
      "text/plain": [
       "{'ids': ['5ef7c16b-c961-4a1e-8626-599343d1ecec',\n",
       "  '741dabe2-43f9-4398-b312-1d0b243ab2b9',\n",
       "  '9e68706c-1578-4e12-b837-28df240a868a'],\n",
       " 'embeddings': array([[ 0.00318774,  0.002113  ,  0.02615281, ...,  0.01010655,\n",
       "         -0.01207263, -0.00871894],\n",
       "        [-0.02684962,  0.01051292,  0.02093918, ...,  0.00714837,\n",
       "         -0.01413428, -0.00337904],\n",
       "        [-0.01028546, -0.0128946 ,  0.01876419, ...,  0.01642916,\n",
       "         -0.01794407, -0.00932398]], shape=(3, 3072)),\n",
       " 'documents': ['Virat kohli is kinda agressive player',\n",
       "  'Rohit Sharma is good player',\n",
       "  'MSD is captain cool'],\n",
       " 'uris': None,\n",
       " 'included': ['embeddings', 'documents', 'metadatas'],\n",
       " 'data': None,\n",
       " 'metadatas': [{'team': 'RCB'}, {'team': 'MI'}, {'team': 'CSK'}]}"
      ]
     },
     "execution_count": 20,
     "metadata": {},
     "output_type": "execute_result"
    }
   ],
   "source": [
    "vector_store.get(include=['embeddings', 'documents', 'metadatas'])"
   ]
  },
  {
   "cell_type": "code",
   "execution_count": null,
   "id": "73bcd916",
   "metadata": {},
   "outputs": [],
   "source": []
  }
 ],
 "metadata": {
  "kernelspec": {
   "display_name": "base",
   "language": "python",
   "name": "python3"
  },
  "language_info": {
   "codemirror_mode": {
    "name": "ipython",
    "version": 3
   },
   "file_extension": ".py",
   "mimetype": "text/x-python",
   "name": "python",
   "nbconvert_exporter": "python",
   "pygments_lexer": "ipython3",
   "version": "3.13.5"
  }
 },
 "nbformat": 4,
 "nbformat_minor": 5
}
