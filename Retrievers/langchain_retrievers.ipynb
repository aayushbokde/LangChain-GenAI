{
 "cells": [
  {
   "cell_type": "markdown",
   "id": "71d24e8e",
   "metadata": {},
   "source": [
    "Wikipedia Retriever"
   ]
  },
  {
   "cell_type": "code",
   "execution_count": 1,
   "id": "4e35a18a",
   "metadata": {},
   "outputs": [],
   "source": [
    "from langchain_community.retrievers import WikipediaRetriever"
   ]
  },
  {
   "cell_type": "code",
   "execution_count": 2,
   "id": "aa50353c",
   "metadata": {},
   "outputs": [],
   "source": [
    "retriver = WikipediaRetriever(top_k_results=2, lang=\"en\")"
   ]
  },
  {
   "cell_type": "code",
   "execution_count": 3,
   "id": "492c085f",
   "metadata": {},
   "outputs": [],
   "source": [
    "query = \"History of india with respect to chinese\"\n",
    "\n",
    "docs = retriver.invoke(query)"
   ]
  },
  {
   "cell_type": "code",
   "execution_count": 4,
   "id": "fdfbe8ec",
   "metadata": {},
   "outputs": [
    {
     "name": "stdout",
     "output_type": "stream",
     "text": [
      "\n",
      " -- Result 1--\n",
      "Content: \n",
      " Anatomically modern humans first arrived on the Indian subcontinent between 73,000 and 55,000 years ago. The earliest known human remains in South Asia date to 30,000 years ago. Sedentariness began in South Asia around 7000 BCE; by 4500 BCE, settled life had spread, and gradually evolved into the Indus Valley Civilisation, one of three early cradles of civilisation in the Old World, which flourished between 2500 BCE and 1900 BCE in present-day Pakistan and north-western India. Early in the second millennium BCE, persistent drought caused the population of the Indus Valley to scatter from large urban centres to villages. Indo-Aryan tribes moved into the Punjab from Central Asia in several waves of migration. The Vedic Period of the Vedic people in northern India (1500–500 BCE) was marked by the composition of their extensive collections of hymns (Vedas). The social structure was loosely stratified via the varna system, incorporated into the highly evolved present-day Jāti system. The pastoral and nomadic Indo-Aryans spread from the Punjab into the Gangetic plain. Around 600 BCE, a new, interregional culture arose; then, small chieftaincies (janapadas) were consolidated into larger states (mahajanapadas). Second urbanization took place, which came with the rise of new ascetic movements and religious concepts, including the rise of Jainism and Buddhism. The latter was synthesized with the preexisting religious cultures of the subcontinent, giving rise to Hinduism.\n",
      "\n",
      "Chandragupta Maurya overthrew the Nanda Empire and established the first great empire in ancient India, the Maurya Empire. India's Mauryan king Ashoka is widely recognised for the violent kalinga war and his historical acceptance of Buddhism and his attempts to spread nonviolence and peace across his empire. The Maurya Empire would collapse in 185 BCE, on the assassination of the then-emperor Brihadratha by his general Pushyamitra Shunga. Shunga would form the Shunga Empire in the north and north-east of the subcontinent, while the Greco-Bactrian Kingdom would claim the north-west and found the Indo-Greek Kingdom. Various parts of India were ruled by numerous dynasties, including the Gupta Empire, in the 4th to 6th centuries CE. This period, witnessing a Hindu religious and intellectual resurgence is known as the Classical or Golden Age of India. Aspects of Indian civilisation, administration, culture, and religion spread to much of Asia, which led to the establishment of Indianised kingdoms in the region, forming Greater India. The most significant event between the 7th and 11th centuries was the Tripartite struggle centred on Kannauj. Southern India saw the rise of multiple imperial powers from the middle of the fifth century. The Chola dynasty conquered southern India in the 11th century. In the early medieval period, Indian mathematics, including Hindu numerals, influenced the development of mathematics and astronomy in the Arab world, including the creation of the Hindu-Arabic numeral system.\n",
      "Islamic conquests made limited inroads into modern Afghanistan and Sindh as early as the 8th century, followed by the invasions of Mahmud Ghazni.\n",
      "The Delhi Sultanate, established in 1206 by Central Asian Turks, ruled much of northern India in the 14th century. It was governed by various Turkic and Afghan dynasties, including the Indo-Turkic Tughlaqs. The empire declined in the late 14th century following the invasions of Timur and saw the advent of the Malwa, Gujarat, and Bahmani sultanates, the last of which split in 1518 into the five Deccan sultanates. The wealthy Bengal Sultanate also emerged as a major power, lasting over three centuries. During this period, multiple strong Hindu kingdoms, notably the Vijayanagara Empire and Rajput states under the Kingdom of Mewar emerged and played significant roles in shaping the cultural and political landscape of India.\n",
      "The early modern period began in the 16th century, when the Mughal Empire conquered most of the Indian subcontinen...\n",
      "\n",
      " -- Result 2--\n",
      "Content: \n",
      " The Self-Respect Movement is a popular human rights movement originating in South India aimed at achieving social equality for those oppressed by the Indian caste system, advocating for lower castes to develop self-respect. It was founded in 1925 by S. Ramanathan, who invited E. V. Ramasamy (also known as Periyar) to head the India against Brahminism movement in Tamil Nadu. The movement was extremely influential not only in Tamil Nadu, but also overseas in countries with large Tamil populations, such as Sri Lanka, Burma, and Singapore. Among Singapore Indians, groups like the Tamil Reform Association, and leaders such as Thamizhavel G. Sarangapani were prominent in promoting the principles of the Self-Respect Movement among the local Tamil population through schools and publications.\n",
      "A number of political parties in Tamil Nadu, such as Dravida Munnetra Kazhagam (DMK) and All India Anna Dravida Munnetra Kazhagam (AIADMK) owe their origins to the Self-Respect Movement; the latter had a breakaway from the DMK in 1972. Both parties are populist with a generally social democratic orientation.\n",
      "\n",
      "\n",
      "== The Principles of Self-Respect ==\n",
      "Ramasamy was convinced that if man developed self respect, he would automatically develop individuality and would refuse to be led by the nose by schemers. One of his most known quotes on Self-Respect was, \"we are fit to think of 'self-respect' only when the notion of 'superior' and 'inferior' caste is banished from our land\".\n",
      "Ramasamy did not expect personal or material gain out of this movement. He used to recall in a very casual manner that as a human being, he also was obligated to this duty, as it was the right and freedom to choose this work. Thus, he opted to engage himself in starting and promoting the movement.\n",
      "Periyar declared that the Self-Respect Movement alone could be the genuine freedom movement, and political freedom would not be fruitful without individual self-respect. He remarked that the so-called 'Indian freedom fighters' were showing disrespect of self-respect, and this was really an irrational philosophy.\n",
      "He observed that political freedom as conceived by nationalists such as Gandhi and Jawaharlal Nehru and others did not cover individual self-respect. To him neither revival of the original spirit of Hindu religion and ancient traditions which formed part of Gandhi's conception of freedom, nor complete liberation from the British rule which was considered by Nehru to be the meaning of freedom or both of them together could ensure individual self-respect or the eradication of social ills from Indian society. In his opinion, the task of fulfilling the need for self-respect would have to be faced whatever be the extent of political freedom gained. Pointing out that even the British monarch in a sovereign independent nation had no freedom to marry a person of his choice and had to abdicate his kingdom, Ramasamy raised a question whether Gandhi's vision of freedom or Nehru's concept of independence contained even an iota of individual self-respect.\n",
      "Ramasamy believed that self-respect was as valuable as life itself and its protection is a birthright and not swaraj ('political freedom'). He described the movement as Arivu Vidutalai Iyakkam, that is, a movement to liberate the intellect.\n",
      "The terms tan-maanam or suya mariyadai meaning 'self-respect' are traceable in ancient Tamil literature considered a virtue of high valor in Tamil society.  Ramasamy once claimed that to describe the ideology of his movement, no dictionary or language in the entire world could provide a word better than or equal to suya mariyadai.\n",
      "Started as a movement (iyakkam in Tamil; Dravida Iyakkam) to promote rational behavior, the Self-Respect Movement acquired much wider connotation within a short period of time. Periyar, speaking with M.K. Reddy at the First Self-Respect Conference held in 1929, explained the significance of self-respect and its principles. The main principles of the Self-Respect Movement in societ...\n"
     ]
    }
   ],
   "source": [
    "for i , docs in enumerate(docs):\n",
    "    print(f\"\\n -- Result {i+1}--\")\n",
    "    print(f\"Content: \\n {docs.page_content}...\")"
   ]
  },
  {
   "cell_type": "code",
   "execution_count": null,
   "id": "dbb7bf6d",
   "metadata": {},
   "outputs": [],
   "source": []
  },
  {
   "cell_type": "markdown",
   "id": "941b5b9a",
   "metadata": {},
   "source": [
    "Vector Store Retrievers"
   ]
  },
  {
   "cell_type": "code",
   "execution_count": 5,
   "id": "46b35057",
   "metadata": {},
   "outputs": [],
   "source": [
    "from langchain_community.vectorstores import Chroma\n",
    "from langchain_google_genai import GoogleGenerativeAIEmbeddings\n",
    "from langchain_core.documents import Document"
   ]
  },
  {
   "cell_type": "code",
   "execution_count": 8,
   "id": "0e299db2",
   "metadata": {},
   "outputs": [],
   "source": [
    "document=[\n",
    "    Document(page_content=\"Langchain is good use it every day\"),\n",
    "    Document(page_content=\"Langchain is great use it every day\"),\n",
    "    Document(page_content=\"Langchain is amazing use it every day\")\n",
    "]"
   ]
  },
  {
   "cell_type": "code",
   "execution_count": 10,
   "id": "bc28a333",
   "metadata": {},
   "outputs": [],
   "source": [
    "embedding_model = GoogleGenerativeAIEmbeddings(\n",
    "    model = \"gemini-embedding-001\"\n",
    ")\n",
    "vectorStore = Chroma.from_documents(\n",
    "    documents = document,\n",
    "    embedding=embedding_model,\n",
    "    collection_name=\"my_collection\"\n",
    ")"
   ]
  },
  {
   "cell_type": "code",
   "execution_count": 11,
   "id": "7b63a404",
   "metadata": {},
   "outputs": [],
   "source": [
    "retriver = vectorStore.as_retriever(search_kwargs ={\"k\":2})"
   ]
  },
  {
   "cell_type": "code",
   "execution_count": 12,
   "id": "b772224e",
   "metadata": {},
   "outputs": [],
   "source": [
    "query = \"How is langchain\"\n",
    "results = retriver.invoke(query)"
   ]
  },
  {
   "cell_type": "code",
   "execution_count": 14,
   "id": "147a03c4",
   "metadata": {},
   "outputs": [
    {
     "name": "stdout",
     "output_type": "stream",
     "text": [
      "\n",
      " --- Result 1---\n",
      "Langchain is good use it every day\n",
      "\n",
      " --- Result 2---\n",
      "Langchain is great use it every day\n",
      "\n",
      " --- Result 3---\n",
      "Langchain is amazing use it every day\n"
     ]
    }
   ],
   "source": [
    "for i, doc in enumerate(document):\n",
    "    print(f\"\\n --- Result {i+1}---\")\n",
    "    print(doc.page_content)"
   ]
  },
  {
   "cell_type": "code",
   "execution_count": 15,
   "id": "3b12252e",
   "metadata": {},
   "outputs": [
    {
     "data": {
      "text/plain": [
       "[Document(metadata={}, page_content='Langchain is good use it every day'),\n",
       " Document(metadata={}, page_content='Langchain is great use it every day')]"
      ]
     },
     "execution_count": 15,
     "metadata": {},
     "output_type": "execute_result"
    }
   ],
   "source": [
    "vectorStore.similarity_search(query, k=2)"
   ]
  },
  {
   "cell_type": "markdown",
   "id": "5bacac41",
   "metadata": {},
   "source": [
    "MMR"
   ]
  },
  {
   "cell_type": "code",
   "execution_count": 16,
   "id": "aec96fa0",
   "metadata": {},
   "outputs": [],
   "source": [
    "#Sample documents\n",
    "docs = [\n",
    "Document(page_content=\"LangChain makes it easy to work with LLMs.\"),\n",
    "Document(page_content=\"LangChain is used to build LLM based applications.\"),\n",
    "Document(page_content=\"Chroma is used to store and search document embeddings.\"),\n",
    "Document(page_content=\"Embeddings are vector representations of text.\"),\n",
    "Document(page_content=\"MMR helps you get diverse results when doing similarity search.\"),\n",
    "Document(page_content=\"LangChain supports Chroma, FAISS, Pinecone, and more.\"),\n",
    "]"
   ]
  },
  {
   "cell_type": "code",
   "execution_count": 17,
   "id": "7bc30c8d",
   "metadata": {},
   "outputs": [],
   "source": [
    "from langchain_community.vectorstores import FAISS\n",
    "\n",
    "embedding_model = GoogleGenerativeAIEmbeddings(model = \"gemini-embedding-001\")\n",
    "\n",
    "vectorstore = FAISS.from_documents(\n",
    "    documents=docs,\n",
    "    embedding=embedding_model\n",
    ")"
   ]
  },
  {
   "cell_type": "code",
   "execution_count": 25,
   "id": "696ad622",
   "metadata": {},
   "outputs": [],
   "source": [
    "retriver = vectorstore.as_retriever(\n",
    "    search_type = \"mmr\",\n",
    "    search_kwargs = {\"k\":3, \"lambda_mult\":0.5}\n",
    ")"
   ]
  },
  {
   "cell_type": "code",
   "execution_count": 26,
   "id": "b110bead",
   "metadata": {},
   "outputs": [],
   "source": [
    "query = \"what is Langchain\"\n",
    "results= retriver.invoke(query)"
   ]
  },
  {
   "cell_type": "code",
   "execution_count": 27,
   "id": "3bd0a7ff",
   "metadata": {},
   "outputs": [
    {
     "name": "stdout",
     "output_type": "stream",
     "text": [
      "\n",
      " --- Result 1---\n",
      "LangChain is used to build LLM based applications.\n",
      "\n",
      " --- Result 2---\n",
      "Embeddings are vector representations of text.\n",
      "\n",
      " --- Result 3---\n",
      "LangChain supports Chroma, FAISS, Pinecone, and more.\n"
     ]
    }
   ],
   "source": [
    "for i , doc in enumerate(results):\n",
    "    print(f\"\\n --- Result {i+1}---\")\n",
    "    print(doc.page_content)"
   ]
  },
  {
   "cell_type": "markdown",
   "id": "623b6b76",
   "metadata": {},
   "source": [
    "Multi-Query Retriever"
   ]
  },
  {
   "cell_type": "code",
   "execution_count": 34,
   "id": "9619d6a7",
   "metadata": {},
   "outputs": [],
   "source": [
    "from langchain_community.vectorstores import FAISS\n",
    "from langchain_core.documents import Document\n",
    "from langchain_openai import ChatOpenAI\n",
    "from langchain.retrievers.multi_query import MultiQueryRetriever\n",
    "from dotenv import load_dotenv\n",
    "import os"
   ]
  },
  {
   "cell_type": "code",
   "execution_count": 35,
   "id": "89f91afc",
   "metadata": {},
   "outputs": [],
   "source": [
    "#Relevant health & wellness documents\n",
    "all_docs = [\n",
    "    Document(page_content=\"Regular walking boosts heart health and can reduce symptoms of depression.\", metadata={\"source\": \"H1\"}),\n",
    "    Document(page_content=\"Consuming leafy greens and fruits helps detox the body and improve longevity.\", metadata={\"source\": \"H2\"}),\n",
    "    Document(page_content=\"Deep sleep is crucial for cellular repair and emotional regulation.\", metadata={\"source\": \"H3\"}),\n",
    "    Document(page_content=\"Mindfulness and controlled breathing lower cortisol and improve mental clarity.\", metadata={\"source\": \"H4\"}),\n",
    "    Document(page_content=\"Drinking sufficient water throughout the day helps maintain metabolism and energy.\", metadata={\"source\": \"45\"}),\n",
    "    Document(page_content=\"The solar energy system in modern homes helps balance electricity demand.\", metadata={\"source\": \"11\"}),\n",
    "    Document(page_content=\"Python balances readability with power, making it a popular system design language.\", metadata={\"source\":\"I2\"}),\n",
    "    Document(page_content=\"Photosynthesis enables plants to produce energy by converting sunlight.\", metadata={\"source\": \"I3\"}),\n",
    "    Document(page_content=\"The 2022 FIFA World Cup was held in Qatar and drew global energy and excitement.\", metadata={\"source\": \"I4\"}),\n",
    "    Document(page_content=\"Black holes bend spacetime and store immense gravitational energy.\", metadata={\"source\": \"I5\"})\n",
    "]"
   ]
  },
  {
   "cell_type": "code",
   "execution_count": 36,
   "id": "564da25f",
   "metadata": {},
   "outputs": [],
   "source": [
    "embedding_model = GoogleGenerativeAIEmbeddings(\n",
    "    model=\"gemini-embedding-001\"\n",
    ")\n",
    "\n",
    "VectorStore = FAISS.from_documents(all_docs, embedding_model)"
   ]
  },
  {
   "cell_type": "code",
   "execution_count": 37,
   "id": "5221a665",
   "metadata": {},
   "outputs": [],
   "source": [
    "similarity_retriever = vectorStore.as_retriever(search_type = \"similarity\", search_kwargs = {\"k\":5})"
   ]
  },
  {
   "cell_type": "code",
   "execution_count": 46,
   "id": "672ec3fe",
   "metadata": {},
   "outputs": [],
   "source": [
    "load_dotenv()\n",
    "multiquery_retriever = MultiQueryRetriever.from_llm(\n",
    "    retriever=VectorStore.as_retriever(search_kwargs={\"k\":5}),\n",
    "    llm = ChatOpenAI(\n",
    "        model = 'gpt-4o-mini',\n",
    "        api_key=os.getenv(\"OPENROUTER_API_KEY\"),\n",
    "        base_url=os.getenv(\"OPENAI_API_BASE\")  \n",
    "    )\n",
    ")"
   ]
  },
  {
   "cell_type": "code",
   "execution_count": 47,
   "id": "451128ec",
   "metadata": {},
   "outputs": [],
   "source": [
    "query=\"how to improve energy levels and maintain balance?\""
   ]
  },
  {
   "cell_type": "code",
   "execution_count": 48,
   "id": "7e0f394c",
   "metadata": {},
   "outputs": [],
   "source": [
    "similarity_results = similarity_retriever.invoke(query)\n",
    "multiquery_results = multiquery_retriever.invoke(query)"
   ]
  },
  {
   "cell_type": "code",
   "execution_count": 50,
   "id": "ced1a643",
   "metadata": {},
   "outputs": [
    {
     "name": "stdout",
     "output_type": "stream",
     "text": [
      "\n",
      " --- Result 1---\n",
      "Langchain is good use it every day\n",
      "\n",
      " --- Result 2---\n",
      "Langchain is great use it every day\n",
      "\n",
      " --- Result 3---\n",
      "Langchain is amazing use it every day\n",
      "++++++++++++++++++++++++++++++++++++++++++++++++++++++++++++++++++++++++++++++++++++++++++++++++++++++++++++++++++++++++++++++++++++++++++++++++++++++\n",
      "\n",
      " --- Result 1---\n",
      "Drinking sufficient water throughout the day helps maintain metabolism and energy.\n",
      "\n",
      " --- Result 2---\n",
      "Mindfulness and controlled breathing lower cortisol and improve mental clarity.\n",
      "\n",
      " --- Result 3---\n",
      "The solar energy system in modern homes helps balance electricity demand.\n",
      "\n",
      " --- Result 4---\n",
      "Regular walking boosts heart health and can reduce symptoms of depression.\n",
      "\n",
      " --- Result 5---\n",
      "Consuming leafy greens and fruits helps detox the body and improve longevity.\n",
      "\n",
      " --- Result 6---\n",
      "Deep sleep is crucial for cellular repair and emotional regulation.\n"
     ]
    }
   ],
   "source": [
    "for i , doc in enumerate(similarity_results):\n",
    "    print(f\"\\n --- Result {i+1}---\")\n",
    "    print(doc.page_content)\n",
    "\n",
    "print(\"+\"*150)\n",
    "\n",
    "for i , doc in enumerate(multiquery_results):\n",
    "    print(f\"\\n --- Result {i+1}---\")\n",
    "    print(doc.page_content)"
   ]
  },
  {
   "cell_type": "markdown",
   "id": "b6d90285",
   "metadata": {},
   "source": [
    "Context Compression"
   ]
  },
  {
   "cell_type": "code",
   "execution_count": 51,
   "id": "1f105b16",
   "metadata": {},
   "outputs": [],
   "source": [
    "from langchain_community.vectorstores import FAISS\n",
    "from langchain.retrievers.contextual_compression import ContextualCompressionRetriever\n",
    "from langchain.retrievers.document_compressors import LLMChainExtractor\n",
    "from langchain_core.documents import Document"
   ]
  },
  {
   "cell_type": "code",
   "execution_count": 52,
   "id": "21c3c919",
   "metadata": {},
   "outputs": [],
   "source": [
    "# Recreate the document objects from the previous data\n",
    "docs = [\n",
    "    Document(page_content=(\n",
    "        \"\"\"The Grand Canyon is one of the most visited natural wonders in the world.\n",
    "        Photosynthesis is the process by which green plants convert sunlight into energy.\n",
    "        Millions of tourists travel to see it every year. The rocks date back millions of years.\"\"\"\n",
    "    ), metadata={\"source\": \"Doc1\"}),\n",
    "\n",
    "    Document(page_content=(\n",
    "        \"\"\"In medieval Europe, castles were built primarily for defense.\n",
    "        The chlorophyll in plant cells captures sunlight during photosynthesis.\n",
    "        Knights wore armor made of metal. Siege weapons were often used to breach castle walls.\"\"\"\n",
    "    ), metadata={\"source\": \"Doc2\"}),\n",
    "\n",
    "    Document(page_content=(\n",
    "        \"\"\"Basketball was invented by Dr. James Naismith in the late 19th century.\n",
    "        It was originally played with a soccer ball and peach baskets. NBA is now a global league.\"\"\"\n",
    "    ), metadata={\"source\": \"Doc3\"}),\n",
    "\n",
    "    Document(page_content=(\n",
    "        \"\"\"The history of cinema began in the late 1800s. Silent films were the earliest form.\n",
    "        Thomas Edison was among the pioneers. Photosynthesis does not occur in animal cells.\n",
    "        Modern filmmaking involves complex CGI and sound design.\"\"\"\n",
    "    ), metadata={\"source\": \"Doc4\"})\n",
    "]"
   ]
  },
  {
   "cell_type": "code",
   "execution_count": 53,
   "id": "a6619a5d",
   "metadata": {},
   "outputs": [],
   "source": [
    "Vectorstore = FAISS.from_documents(docs, embedding_model)"
   ]
  },
  {
   "cell_type": "code",
   "execution_count": 54,
   "id": "3f459c95",
   "metadata": {},
   "outputs": [],
   "source": [
    "base_retriever = Vectorstore.as_retriever(search_kwargs={\"k\":5})"
   ]
  },
  {
   "cell_type": "code",
   "execution_count": 55,
   "id": "4bcbba90",
   "metadata": {},
   "outputs": [],
   "source": [
    "llm = ChatOpenAI(\n",
    "        model = 'gpt-4o-mini',\n",
    "        api_key=os.getenv(\"OPENROUTER_API_KEY\"),\n",
    "        base_url=os.getenv(\"OPENAI_API_BASE\")  \n",
    "    )\n",
    "compressor = LLMChainExtractor.from_llm(llm)"
   ]
  },
  {
   "cell_type": "code",
   "execution_count": 56,
   "id": "80abc3c1",
   "metadata": {},
   "outputs": [],
   "source": [
    "compression_retriever = ContextualCompressionRetriever(\n",
    "    base_retriever=base_retriever,\n",
    "    base_compressor=compressor\n",
    ")\n"
   ]
  },
  {
   "cell_type": "code",
   "execution_count": 57,
   "id": "f696f324",
   "metadata": {},
   "outputs": [],
   "source": [
    "query = \"What is PhotoSynthesis\"\n",
    "compressed_results = compression_retriever.invoke(query)"
   ]
  },
  {
   "cell_type": "code",
   "execution_count": 58,
   "id": "8e6ed591",
   "metadata": {},
   "outputs": [
    {
     "name": "stdout",
     "output_type": "stream",
     "text": [
      "\n",
      ", --- Result 1---\n",
      "Photosynthesis is the process by which green plants convert sunlight into energy.\n",
      "\n",
      ", --- Result 2---\n",
      "Photosynthesis does not occur in animal cells.\n",
      "\n",
      ", --- Result 3---\n",
      "The chlorophyll in plant cells captures sunlight during photosynthesis.\n"
     ]
    }
   ],
   "source": [
    "for i, doc in enumerate(compressed_results):\n",
    "    print(f\"\\n, --- Result {i+1}---\")\n",
    "    print(doc.page_content)"
   ]
  },
  {
   "cell_type": "code",
   "execution_count": null,
   "id": "439eea22",
   "metadata": {},
   "outputs": [],
   "source": []
  }
 ],
 "metadata": {
  "kernelspec": {
   "display_name": "base",
   "language": "python",
   "name": "python3"
  },
  "language_info": {
   "codemirror_mode": {
    "name": "ipython",
    "version": 3
   },
   "file_extension": ".py",
   "mimetype": "text/x-python",
   "name": "python",
   "nbconvert_exporter": "python",
   "pygments_lexer": "ipython3",
   "version": "3.13.5"
  }
 },
 "nbformat": 4,
 "nbformat_minor": 5
}
