{
 "cells": [
  {
   "cell_type": "code",
   "execution_count": 35,
   "id": "cd5a5d63",
   "metadata": {},
   "outputs": [
    {
     "data": {
      "text/plain": [
       "True"
      ]
     },
     "execution_count": 35,
     "metadata": {},
     "output_type": "execute_result"
    }
   ],
   "source": [
    "import os\n",
    "from dotenv import load_dotenv\n",
    "load_dotenv()"
   ]
  },
  {
   "cell_type": "code",
   "execution_count": 36,
   "id": "427a4b82",
   "metadata": {},
   "outputs": [],
   "source": [
    "from langchain_openai import ChatOpenAI\n",
    "from langchain_core.tools import tool\n",
    "import requests"
   ]
  },
  {
   "cell_type": "code",
   "execution_count": 37,
   "id": "0fc6d8d6",
   "metadata": {},
   "outputs": [
    {
     "data": {
      "text/plain": [
       "'Read full articles, watch videos, browse thousands of titles and more on the \"Headlines\" topic with Google News . 11 hours ago · Maharashtra Breaking News Today : LIVE Updates on OCTOBER 16 महत्त्वाच्या ब्रेकिंग न्यूज मराठीमध्ये, महाराष्ट्रातील सर्व घडामोडी पाहा ( Maharashtra LIVE News ) एका क्लिकवर, मुंबई ... 20 hours ago · ABC News Live VideoNY Gov. Hochul holds news conference on transit security grants Read the latest headlines , breaking news , and videos at APNews.com, the definitive source for independent journalism from every corner of the globe. Lokmat Times Offers Latest News and Breaking News Updates & Information from India & World related to Politics, Sports, Entertainment, business, technology, Lifestyle, and more'"
      ]
     },
     "execution_count": 37,
     "metadata": {},
     "output_type": "execute_result"
    }
   ],
   "source": [
    "from langchain_community.tools import DuckDuckGoSearchRun\n",
    "\n",
    "search_tool = DuckDuckGoSearchRun()\n",
    "results = search_tool.invoke(\"What is today's top news\")\n",
    "results\n"
   ]
  },
  {
   "cell_type": "code",
   "execution_count": 38,
   "id": "96c88be0",
   "metadata": {},
   "outputs": [
    {
     "data": {
      "text/plain": [
       "'Hello! How can I assist you today?'"
      ]
     },
     "execution_count": 38,
     "metadata": {},
     "output_type": "execute_result"
    }
   ],
   "source": [
    "llm=ChatOpenAI(\n",
    "    model = 'gpt-4o-mini',\n",
    "    api_key=os.getenv(\"OPENROUTER_API_KEY\"),\n",
    "    base_url = os.getenv(\"OPENAI_API_BASE\")\n",
    ")\n",
    "\n",
    "llm.invoke('HI').content"
   ]
  },
  {
   "cell_type": "code",
   "execution_count": 39,
   "id": "05bc9941",
   "metadata": {},
   "outputs": [],
   "source": [
    "from langchain.agents import create_react_agent, AgentExecutor\n",
    "from langchain import hub"
   ]
  },
  {
   "cell_type": "code",
   "execution_count": 40,
   "id": "1d669b86",
   "metadata": {},
   "outputs": [],
   "source": [
    "# pull react prompt from the langchain hub\n",
    "\n",
    "prompt = hub.pull('hwchase17/react') # pulls the standard react agent\n",
    "#ReAct means reasoning and action which is a design pattern\n"
   ]
  },
  {
   "cell_type": "code",
   "execution_count": 41,
   "id": "501a4a3a",
   "metadata": {},
   "outputs": [],
   "source": [
    "agent = create_react_agent(\n",
    "    llm = llm,\n",
    "    tools = [search_tool],\n",
    "    prompt = prompt\n",
    ")"
   ]
  },
  {
   "cell_type": "code",
   "execution_count": 42,
   "id": "2b3930bc",
   "metadata": {},
   "outputs": [],
   "source": [
    "agent_executor = AgentExecutor(\n",
    "    agent=agent,\n",
    "    tools=[search_tool],\n",
    "    verbose=True\n",
    ")"
   ]
  },
  {
   "cell_type": "code",
   "execution_count": 43,
   "id": "8779c362",
   "metadata": {},
   "outputs": [
    {
     "name": "stdout",
     "output_type": "stream",
     "text": [
      "\n",
      "\n",
      "\u001b[1m> Entering new AgentExecutor chain...\u001b[0m\n",
      "\u001b[32;1m\u001b[1;3mI need to find information about transportation options from Goa to Mumbai. This might include flights, trains, or bus services.  \n",
      "Action: duckduckgo_search  \n",
      "Action Input: \"ways to reach Mumbai from Goa\"  \u001b[0m\u001b[36;1m\u001b[1;3mSeptember 4, 2025 - NH48 (Mumbai–Pune–Kolhapur–Goa) – Faster, with better highways. ... Distance: 590 km. Time: 10–12 hours. Fuel cost: ₹3,500–₹4,000 one way (petrol car). May 6, 2025 - It takes an hour to reach Goa by flight. The Goa International Airport is located at Dabolim. Whilst this is probably the quickest mode of transport, flights are not the most sustainable way to travel. ... Getting from Mumbai to Goa by train is relatively cheaper. December 16, 2024 - Mumbai to Goa are well connected via flights . The nearest major airport to Mumbai is Chhatrapati Shivaji International Airport Mumbai (BOM / VABB). This airport is 16 km from the centre of Mumbai. One can book an airport taxi in Mumbai to reach there on time. December 10, 2024 - Well, if you’re not too keen on the long drive then are quicker ways to Reach Goa apart from road way . Let’s take a look at them. If zooming about in a car is not your thing, then why not travel from Mumbai to Goa by train? It’s a great means of enjoying the view on the way . July 3, 2025 - This station is situated in the Fort area of South Mumbai. Many Mumbai to Goa trains departs from CST station in Mumbai. The best way to reach CST is to either use the local train, take a ride-hailing service like Uber or catch a signature black-and-yellow cab that is omnipresent in South Mumbai.\u001b[0m\u001b[32;1m\u001b[1;3mI need to summarize the transportation options gathered from the search results to highlight three ways to travel from Goa to Mumbai. \n",
      "\n",
      "1. **By Air**: The quickest option is to take a flight from Goa International Airport (Dabolim) to Chhatrapati Shivaji International Airport in Mumbai, which takes about an hour.\n",
      "\n",
      "2. **By Train**: Another popular and cost-effective option is to travel by train. Trains frequently run between Mumbai and Goa, and the journey allows travelers to enjoy scenic views.\n",
      "\n",
      "3. **By Road**: Traveling by car or bus via NH48 is another option. The road distance is approximately 590 kilometers, and the journey typically takes between 10 to 12 hours.\n",
      "\n",
      "Final Answer: The three ways to reach Mumbai from Goa are by air (flight), by train, and by road (car or bus).\u001b[0m\n",
      "\n",
      "\u001b[1m> Finished chain.\u001b[0m\n"
     ]
    }
   ],
   "source": [
    "response = agent_executor.invoke({\"input\":\"3 ways to reach mumbai from Goa\"})"
   ]
  },
  {
   "cell_type": "code",
   "execution_count": 44,
   "id": "b401e804",
   "metadata": {},
   "outputs": [
    {
     "data": {
      "text/plain": [
       "'The three ways to reach Mumbai from Goa are by air (flight), by train, and by road (car or bus).'"
      ]
     },
     "execution_count": 44,
     "metadata": {},
     "output_type": "execute_result"
    }
   ],
   "source": [
    "response[\"output\"]"
   ]
  },
  {
   "cell_type": "code",
   "execution_count": 45,
   "id": "5056a7b3",
   "metadata": {},
   "outputs": [],
   "source": [
    "# @tool\n",
    "\n",
    "# def get_weather(city:str) -> str:\n",
    "#     \"\"\"\n",
    "#     this function gives the weather report of the city which is asked about.\n",
    "#     \"\"\"\n",
    "\n",
    "#     url = f\"http://api.weatherstack.com/current?access_key=428f04ae72fa809f015fd14efdbf9a2e&query={city}\"\n",
    "\n",
    "#     response = requests.get(url)\n",
    "#     return response.json()\n",
    "\n",
    "from langchain.tools import tool\n",
    "\n",
    "@tool(\"Get the current weather of a city using a weather API\")\n",
    "def get_weather(city: str) -> str:\n",
    "    \"\"\"\n",
    "    Returns the current temperature, humidity, and general weather conditions of the given city.\n",
    "    \"\"\"\n",
    "    import requests\n",
    "    url = f\"http://api.weatherstack.com/current?access_key=428f04ae72fa809f015fd14efdbf9a2e&query={city}\"\n",
    "    response = requests.get(url)\n",
    "    data = response.json()\n",
    "    temp = data['current']['temperature']\n",
    "    humidity = data['current']['humidity']\n",
    "    condition = data['current']['weather_descriptions'][0]\n",
    "    return f\"The temperature is {temp}°C, humidity is {humidity}%, and it is {condition.lower()}.\"\n"
   ]
  },
  {
   "cell_type": "code",
   "execution_count": 46,
   "id": "c6b55479",
   "metadata": {},
   "outputs": [],
   "source": [
    "new_prompt = hub.pull('hwchase17/react')"
   ]
  },
  {
   "cell_type": "code",
   "execution_count": 47,
   "id": "c8a6bd9e",
   "metadata": {},
   "outputs": [],
   "source": [
    "new_agent = create_react_agent(\n",
    "    llm = llm,\n",
    "    tools=[get_weather],\n",
    "    prompt = new_prompt\n",
    ")"
   ]
  },
  {
   "cell_type": "code",
   "execution_count": null,
   "id": "e973b0c0",
   "metadata": {},
   "outputs": [],
   "source": [
    "new_agent_executor = AgentExecutor(\n",
    "    agent = new_agent,\n",
    "    tools = [get_weather],\n",
    "    verbose = True\n",
    ")"
   ]
  },
  {
   "cell_type": "code",
   "execution_count": 49,
   "id": "10c5c992",
   "metadata": {},
   "outputs": [
    {
     "name": "stdout",
     "output_type": "stream",
     "text": [
      "\n",
      "\n",
      "\u001b[1m> Entering new AgentExecutor chain...\u001b[0m\n",
      "\u001b[32;1m\u001b[1;3mI should check the current weather conditions in Mumbai for the most accurate information. \n",
      "Action: duckduckgo_search\n",
      "Action Input: Mumbai current weather\u001b[0m\u001b[36;1m\u001b[1;3mHourly Local Weather Forecast, weather conditions, precipitation, dew point, humidity, wind from Weather .com and The Weather Channel Mumbai expects a sunny day with a gentle breeze, though humidity will make it feel warm. Yesterday's 'poor' air quality (AQI 156) might persist, advis Mumbai Weather Update: Rains, Temperature, and Air Quality Outlook Stay updated with today's Mumbai weather : overcast skies, light rain showers, temperatures between 26°C and 30°C, 88% humidity ... Get the latest hourly weather updates for Mumbai today. Detailed forecast including temperature, wind, rain, snow, and UV index. Stay informed about today's weather conditions in Mumbai . 12 day Mumbai Weather Forecast. Live Weather Warnings, hourly weather updates. Accurate Mumbai weather today, forecast for sun, rain, wind and temperature.\u001b[0m\u001b[32;1m\u001b[1;3mThe search results indicate that the weather in Mumbai is currently overcast with light rain showers. The temperatures are expected to range between 26°C and 30°C, with a high level of humidity at 88%. There's also a mention of 'poor' air quality persisting with an AQI of 156.\n",
      "\n",
      "Final Answer: The current weather in Mumbai is overcast with light rain showers, temperatures between 26°C and 30°C, and humidity at 88%.\u001b[0m\n",
      "\n",
      "\u001b[1m> Finished chain.\u001b[0m\n",
      "{'input': 'Tell me about the weather of the Mumbai', 'output': 'The current weather in Mumbai is overcast with light rain showers, temperatures between 26°C and 30°C, and humidity at 88%.'}\n"
     ]
    }
   ],
   "source": [
    "response = agent_executor.invoke({\"input\":\"Tell me about the weather of the Mumbai\"})\n",
    "print(response)"
   ]
  },
  {
   "cell_type": "code",
   "execution_count": 50,
   "id": "fadd52d6",
   "metadata": {},
   "outputs": [],
   "source": [
    "# its not using the get_weather but it can, this is due to the prebuilt prompt pulled from hub, it has not set the search_tool as a general purpose tool\n",
    "# and so it uses it for mostly everything"
   ]
  },
  {
   "cell_type": "code",
   "execution_count": null,
   "id": "5e7f1255",
   "metadata": {},
   "outputs": [],
   "source": []
  }
 ],
 "metadata": {
  "kernelspec": {
   "display_name": "base",
   "language": "python",
   "name": "python3"
  },
  "language_info": {
   "codemirror_mode": {
    "name": "ipython",
    "version": 3
   },
   "file_extension": ".py",
   "mimetype": "text/x-python",
   "name": "python",
   "nbconvert_exporter": "python",
   "pygments_lexer": "ipython3",
   "version": "3.13.5"
  }
 },
 "nbformat": 4,
 "nbformat_minor": 5
}
